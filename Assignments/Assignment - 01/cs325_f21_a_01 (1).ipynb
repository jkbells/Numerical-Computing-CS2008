{
  "nbformat": 4,
  "nbformat_minor": 0,
  "metadata": {
    "colab": {
      "name": "cs325-f21-a-01.ipynb",
      "provenance": [],
      "collapsed_sections": []
    },
    "kernelspec": {
      "name": "python3",
      "display_name": "Python 3"
    },
    "language_info": {
      "name": "python"
    }
  },
  "cells": [
    {
      "cell_type": "code",
      "metadata": {
        "id": "U7sEV5NC7Ya3"
      },
      "source": [
        "class Vector: \n",
        "    def __init__(self, x = 0.0, y = 0.0): \n",
        "        self.x = x\n",
        "        self.y = y \n",
        "    \n",
        "    def __str__(self): \n",
        "        return \"[{}, {}]\".format(str(self.x), str(self.y))"
      ],
      "execution_count": null,
      "outputs": []
    },
    {
      "cell_type": "code",
      "metadata": {
        "id": "A-4hT2EE7Z8l"
      },
      "source": [
        "a = Vector(2, 4)\n"
      ],
      "execution_count": null,
      "outputs": []
    },
    {
      "cell_type": "code",
      "metadata": {
        "colab": {
          "base_uri": "https://localhost:8080/"
        },
        "id": "gjf5rfnW7npb",
        "outputId": "8babc0cd-5ccd-468a-f33f-dead6dd5c733"
      },
      "source": [
        "print(a)"
      ],
      "execution_count": null,
      "outputs": [
        {
          "output_type": "stream",
          "name": "stdout",
          "text": [
            "[2, 4]\n"
          ]
        }
      ]
    },
    {
      "cell_type": "code",
      "metadata": {
        "colab": {
          "base_uri": "https://localhost:8080/"
        },
        "id": "jOsvy12Nerqr",
        "outputId": "59df664c-b269-408e-8a04-4ad4c91c0ac3"
      },
      "source": [
        "b = Vector(5, 2)\n",
        "print(b)"
      ],
      "execution_count": null,
      "outputs": [
        {
          "output_type": "stream",
          "name": "stdout",
          "text": [
            "[5, 2]\n"
          ]
        }
      ]
    },
    {
      "cell_type": "code",
      "metadata": {
        "id": "-HCetovEe19O"
      },
      "source": [
        "def add(self, b):\n",
        "  c = Vector()\n",
        "  c.x = self.x + b.x\n",
        "  c.y = self.y + b.y\n",
        "  return c\n",
        "\n",
        "Vector.add = add"
      ],
      "execution_count": null,
      "outputs": []
    },
    {
      "cell_type": "code",
      "metadata": {
        "colab": {
          "base_uri": "https://localhost:8080/"
        },
        "id": "dpMzf_2-gD7p",
        "outputId": "04414ffc-8bf1-4640-ece5-63539fb86c7f"
      },
      "source": [
        "c = a.add(b)\n",
        "print(c)"
      ],
      "execution_count": null,
      "outputs": [
        {
          "output_type": "stream",
          "name": "stdout",
          "text": [
            "[7, 6]\n"
          ]
        }
      ]
    },
    {
      "cell_type": "code",
      "metadata": {
        "id": "wJup-QSOgF3p"
      },
      "source": [
        "def mul(self, s):\n",
        "  return Vector(s *self.x , s* self.y)\n",
        "\n",
        "Vector.mul = mul"
      ],
      "execution_count": null,
      "outputs": []
    },
    {
      "cell_type": "code",
      "metadata": {
        "colab": {
          "base_uri": "https://localhost:8080/"
        },
        "id": "9EVUo7V6hDuQ",
        "outputId": "e224361f-42fa-48e7-c79c-e90e7d21e90b"
      },
      "source": [
        "d = a.mul(2)\n",
        "print(d)"
      ],
      "execution_count": null,
      "outputs": [
        {
          "output_type": "stream",
          "name": "stdout",
          "text": [
            "[4, 8]\n"
          ]
        }
      ]
    },
    {
      "cell_type": "code",
      "metadata": {
        "id": "2qTiyQO2hHCA"
      },
      "source": [
        "def sub(self, b):\n",
        "  return self.add(b.mul(-1))\n",
        "\n",
        "Vector.sub = sub"
      ],
      "execution_count": null,
      "outputs": []
    },
    {
      "cell_type": "code",
      "metadata": {
        "colab": {
          "base_uri": "https://localhost:8080/"
        },
        "id": "G9ghQei4oqdn",
        "outputId": "7725d05e-a9bc-438e-8fce-2bd6fc5292ba"
      },
      "source": [
        "d_min_b = d.sub(b)\n",
        "print(d_min_b)"
      ],
      "execution_count": null,
      "outputs": [
        {
          "output_type": "stream",
          "name": "stdout",
          "text": [
            "[-1, 6]\n"
          ]
        }
      ]
    },
    {
      "cell_type": "code",
      "metadata": {
        "colab": {
          "base_uri": "https://localhost:8080/"
        },
        "id": "vqlXBvc1qDba",
        "outputId": "c20f8d95-0f98-43c0-b63e-956a328b8a29"
      },
      "source": [
        "def dot(vector01, vector02):\n",
        "    if len(vector01) != len(vector02):\n",
        "        raise ValueError\n",
        "    total = 0\n",
        "    for i in range(len(vector01)):\n",
        "        total += vector01[i] * vector02[i]\n",
        "    return total\n",
        "\n",
        "vector01 = [1, 2]\n",
        "vector02 = [3, 4]\n",
        "print(\"the dot product of two vectors:\", dot(vector01,vector02))"
      ],
      "execution_count": 90,
      "outputs": [
        {
          "output_type": "stream",
          "name": "stdout",
          "text": [
            "the dot product of two vectors: 11\n"
          ]
        }
      ]
    },
    {
      "cell_type": "code",
      "metadata": {
        "colab": {
          "base_uri": "https://localhost:8080/"
        },
        "id": "fsY601013gw3",
        "outputId": "097744e7-6282-41c6-88bf-905e71d93dab"
      },
      "source": [
        "class vector3:\n",
        "\n",
        "  def __init__(self, vector01, vector02):\n",
        "    self.vector01 = vector01\n",
        "    self.vector02 = vector02\n",
        "\n",
        "  def dot(vector01, vector02):\n",
        "    if len(vector01) != len(vector02):\n",
        "        raise ValueError\n",
        "    total = 0\n",
        "    for i in range(len(vector01)):\n",
        "        total += vector01[i] * vector02[i]\n",
        "    return total\n",
        "\n",
        "vector01 = [1, 2, 3]\n",
        "vector02 = [4, 5, 6]\n",
        "print(\"the dot product of two vectors:\", dot(vector01,vector02))"
      ],
      "execution_count": 93,
      "outputs": [
        {
          "output_type": "stream",
          "name": "stdout",
          "text": [
            "the dot product of two vectors: 32\n"
          ]
        }
      ]
    },
    {
      "cell_type": "markdown",
      "metadata": {
        "id": "Rn-XXHmKI2Yc"
      },
      "source": [
        "# **For N Class**"
      ]
    },
    {
      "cell_type": "code",
      "metadata": {
        "colab": {
          "base_uri": "https://localhost:8080/"
        },
        "id": "cILSEJGM6ljY",
        "outputId": "db97af8d-7168-46cd-dff7-c34fb86591d3"
      },
      "source": [
        "class vectorN:\n",
        "\n",
        "  def __init__(self, vector01, vector02):\n",
        "    self.vector01 = vector01\n",
        "    self.vector02 = vector02\n",
        "\n",
        "  def dot(vector01, vector02):\n",
        "    if len(vector01) != len(vector02):\n",
        "        raise ValueError\n",
        "    total = 0\n",
        "    for i in range(len(vector01)):\n",
        "        total += vector01[i] * vector02[i]\n",
        "    return total\n",
        "\n",
        "vector01 = [1, 2, 3, 4, 5, 6]\n",
        "vector02 = [4, 5, 6, 7, 8, 9]\n",
        "print(\"the dot product of two vectors:\", dot(vector01,vector02))"
      ],
      "execution_count": 94,
      "outputs": [
        {
          "output_type": "stream",
          "name": "stdout",
          "text": [
            "the dot product of two vectors: 154\n"
          ]
        }
      ]
    },
    {
      "cell_type": "markdown",
      "metadata": {
        "id": "4gC60PS-KdoX"
      },
      "source": [
        "# First of all through dot function i will campare two vectors if there are same elements present if condition returns true then a for loop is running and then multiplying the first elements of two vector and add sum in the total varaiable."
      ]
    },
    {
      "cell_type": "code",
      "metadata": {
        "id": "f7k5_z5J9KCz"
      },
      "source": [
        ""
      ],
      "execution_count": null,
      "outputs": []
    }
  ]
}