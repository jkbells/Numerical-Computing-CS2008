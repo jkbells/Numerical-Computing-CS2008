{
  "nbformat": 4,
  "nbformat_minor": 0,
  "metadata": {
    "colab": {
      "name": "01-vectors-matrices.ipynb",
      "provenance": [],
      "authorship_tag": "ABX9TyMVFE/zQi9VfVJn3zfWH90V",
      "include_colab_link": true
    },
    "kernelspec": {
      "name": "python3",
      "display_name": "Python 3"
    },
    "language_info": {
      "name": "python"
    }
  },
  "cells": [
    {
      "cell_type": "markdown",
      "metadata": {
        "id": "view-in-github",
        "colab_type": "text"
      },
      "source": [
        "<a href=\"https://colab.research.google.com/github/jkbells/Numerical-Computing-CS2008/blob/main/01_vectors_matrices.ipynb\" target=\"_parent\"><img src=\"https://colab.research.google.com/assets/colab-badge.svg\" alt=\"Open In Colab\"/></a>"
      ]
    },
    {
      "cell_type": "markdown",
      "metadata": {
        "id": "TvmSgqQ2Gphe"
      },
      "source": [
        "# **Vector/Matrix Definition and Usage**\n",
        "\n",
        "# **Vector Representation**"
      ]
    },
    {
      "cell_type": "code",
      "metadata": {
        "id": "2uRuqbNKP1qd"
      },
      "source": [
        "class Vector:\n",
        "  def __init__(self, x = 0.0,  y = 0.0):\n",
        "    self.x = x\n",
        "    self.y = y\n",
        "\n",
        "  def __str__(self):\n",
        "    return \"[{},{}]\".format(str(self.x) ,str(self.y))"
      ],
      "execution_count": 2,
      "outputs": []
    },
    {
      "cell_type": "code",
      "metadata": {
        "id": "T8P-naIjE0A2"
      },
      "source": [
        "def add(self, b):\n",
        "  c = Vector()\n",
        "  c.x = self.x + b.x\n",
        "  c.y = self.y + b.y\n",
        "  return c\n",
        "\n",
        "Vector.add = add"
      ],
      "execution_count": 3,
      "outputs": []
    },
    {
      "cell_type": "code",
      "metadata": {
        "id": "87uIuWQCHgr9"
      },
      "source": [
        "def mul(self, s):\n",
        "  return Vector(s *self.x, s * self.y)\n",
        "\n",
        "Vector.mul = mul"
      ],
      "execution_count": 5,
      "outputs": []
    },
    {
      "cell_type": "code",
      "metadata": {
        "id": "yBO69OpcHuj6"
      },
      "source": [
        "def sub(self, b):\n",
        "  # we use the definition of vector subtraction\n",
        "  # instead of defining something new\n",
        "\n",
        "  return self.add(b.mul(-1))\n",
        "\n",
        "Vector.sub = sub"
      ],
      "execution_count": 6,
      "outputs": []
    },
    {
      "cell_type": "code",
      "metadata": {
        "id": "l3j3zsNJIBj1"
      },
      "source": [
        "a = Vector(2, 4)"
      ],
      "execution_count": 7,
      "outputs": []
    },
    {
      "cell_type": "code",
      "metadata": {
        "colab": {
          "base_uri": "https://localhost:8080/"
        },
        "id": "mem2ZryzIJmP",
        "outputId": "b33e8472-2130-415b-8c7d-b0ab11a70bec"
      },
      "source": [
        "print(a)"
      ],
      "execution_count": 8,
      "outputs": [
        {
          "output_type": "stream",
          "name": "stdout",
          "text": [
            "[2,4]\n"
          ]
        }
      ]
    },
    {
      "cell_type": "code",
      "metadata": {
        "colab": {
          "base_uri": "https://localhost:8080/"
        },
        "id": "RsH4e6wGIKP_",
        "outputId": "92997f61-0e7c-44e9-ce9b-67999213bb41"
      },
      "source": [
        "b = Vector(5, 2)\n",
        "print(b)"
      ],
      "execution_count": 9,
      "outputs": [
        {
          "output_type": "stream",
          "name": "stdout",
          "text": [
            "[5,2]\n"
          ]
        }
      ]
    },
    {
      "cell_type": "code",
      "metadata": {
        "colab": {
          "base_uri": "https://localhost:8080/"
        },
        "id": "4WHq0rjgIOnL",
        "outputId": "668df520-b965-418d-ced6-f70d39d0d4fe"
      },
      "source": [
        "c = a.add(b)\n",
        "print(c)"
      ],
      "execution_count": 10,
      "outputs": [
        {
          "output_type": "stream",
          "name": "stdout",
          "text": [
            "[7,6]\n"
          ]
        }
      ]
    },
    {
      "cell_type": "code",
      "metadata": {
        "colab": {
          "base_uri": "https://localhost:8080/"
        },
        "id": "9FLkt4mmIUOK",
        "outputId": "bb57402d-f9c5-4a2c-e0e6-4dc0cc4fbb8d"
      },
      "source": [
        "d = a.mul(2)\n",
        "print(d)"
      ],
      "execution_count": 11,
      "outputs": [
        {
          "output_type": "stream",
          "name": "stdout",
          "text": [
            "[4,8]\n"
          ]
        }
      ]
    },
    {
      "cell_type": "code",
      "metadata": {
        "colab": {
          "base_uri": "https://localhost:8080/"
        },
        "id": "FvbzvjTlIea-",
        "outputId": "72681ffa-b55b-4f34-d660-9be8d2d9bbf4"
      },
      "source": [
        "d_min_b = d.sub(b)\n",
        "print(d_min_b)"
      ],
      "execution_count": 12,
      "outputs": [
        {
          "output_type": "stream",
          "name": "stdout",
          "text": [
            "[-1,6]\n"
          ]
        }
      ]
    },
    {
      "cell_type": "code",
      "metadata": {
        "id": "JIULsRy2Imnm"
      },
      "source": [
        "# TODO: define dot products and cross-products"
      ],
      "execution_count": 13,
      "outputs": []
    },
    {
      "cell_type": "markdown",
      "metadata": {
        "id": "KQCXcGzoI7NZ"
      },
      "source": [
        "# **Matrix Representation(Dense)**"
      ]
    },
    {
      "cell_type": "code",
      "metadata": {
        "id": "D0VEfRqdI6TW"
      },
      "source": [
        "class Matrix:\n",
        "\n",
        "  def __init__(self, dims , fill):\n",
        "    self.rows = dims[0]\n",
        "    self.cols = dims[1]\n",
        "\n",
        "    self.A = [\n",
        "              [fill] * self.cols          # for each row, this many columns\n",
        "              for i in range(self.rows)    # create this many rows\n",
        "    ]"
      ],
      "execution_count": 21,
      "outputs": []
    },
    {
      "cell_type": "code",
      "metadata": {
        "id": "EDMPFhTVJgD2"
      },
      "source": [
        "m = Matrix((3,4), 2.0)"
      ],
      "execution_count": 22,
      "outputs": []
    },
    {
      "cell_type": "code",
      "metadata": {
        "colab": {
          "base_uri": "https://localhost:8080/"
        },
        "id": "T5vxBXn1JoVz",
        "outputId": "bb14e838-1458-449f-8966-01ef346d3e9d"
      },
      "source": [
        "print(m)"
      ],
      "execution_count": 23,
      "outputs": [
        {
          "output_type": "stream",
          "name": "stdout",
          "text": [
            "<__main__.Matrix object at 0x7f6cb8a76450>\n"
          ]
        }
      ]
    },
    {
      "cell_type": "code",
      "metadata": {
        "id": "MCFDOGeOJ4q7"
      },
      "source": [
        "def __str__(self):\n",
        "  rows = len(self.A)   # Get the first Dimension\n",
        "  ret = ''\n",
        "\n",
        "  for i in range(rows):\n",
        "    cols = len(self.A[i])\n",
        "\n",
        "    for j in range(cols):\n",
        "      ret += str(self.A[i][j]) + \"\\t\"\n",
        "    ret += \"\\n\"\n",
        "\n",
        "  return ret\n",
        "\n",
        "Matrix.__str__ = __str__"
      ],
      "execution_count": 24,
      "outputs": []
    },
    {
      "cell_type": "code",
      "metadata": {
        "colab": {
          "base_uri": "https://localhost:8080/"
        },
        "id": "DTjXJp9vLKlo",
        "outputId": "32886947-ef2c-4bdd-e555-be90830b3aa6"
      },
      "source": [
        "print(m)"
      ],
      "execution_count": 26,
      "outputs": [
        {
          "output_type": "stream",
          "name": "stdout",
          "text": [
            "2.0\t2.0\t2.0\t2.0\t\n",
            "2.0\t2.0\t2.0\t2.0\t\n",
            "2.0\t2.0\t2.0\t2.0\t\n",
            "\n"
          ]
        }
      ]
    },
    {
      "cell_type": "code",
      "metadata": {
        "id": "mZlUpdXlLMaS"
      },
      "source": [
        "# This implementation of __str__ is not a good idea.\n",
        "# Can you think of a reason why?"
      ],
      "execution_count": 27,
      "outputs": []
    },
    {
      "cell_type": "code",
      "metadata": {
        "colab": {
          "base_uri": "https://localhost:8080/"
        },
        "id": "mcqxjS6-LXf2",
        "outputId": "89cc6125-146d-4a89-a06c-616e52a5d6af"
      },
      "source": [
        "%time n = Matrix((100,100), 0.0)"
      ],
      "execution_count": 28,
      "outputs": [
        {
          "output_type": "stream",
          "name": "stdout",
          "text": [
            "CPU times: user 132 µs, sys: 0 ns, total: 132 µs\n",
            "Wall time: 150 µs\n"
          ]
        }
      ]
    },
    {
      "cell_type": "markdown",
      "metadata": {
        "id": "3F5TpB4sLoCg"
      },
      "source": [
        "# **Memory Usage**"
      ]
    },
    {
      "cell_type": "code",
      "metadata": {
        "colab": {
          "base_uri": "https://localhost:8080/"
        },
        "id": "C7hRm-7YLeGG",
        "outputId": "062268d3-cecb-4a9e-bc30-0a4cf901533d"
      },
      "source": [
        "from sys import getsizeof\n",
        "print(getsizeof(m))\n",
        "print(getsizeof(n))"
      ],
      "execution_count": 30,
      "outputs": [
        {
          "output_type": "stream",
          "name": "stdout",
          "text": [
            "64\n",
            "64\n"
          ]
        }
      ]
    },
    {
      "cell_type": "code",
      "metadata": {
        "colab": {
          "base_uri": "https://localhost:8080/"
        },
        "id": "GrES3mEaLz9W",
        "outputId": "9593d67f-a112-496f-bf18-150e4a9ca337"
      },
      "source": [
        "!pip install pympler  # to get actual size\n"
      ],
      "execution_count": 31,
      "outputs": [
        {
          "output_type": "stream",
          "name": "stdout",
          "text": [
            "Collecting pympler\n",
            "  Downloading Pympler-0.9.tar.gz (178 kB)\n",
            "\u001b[?25l\r\u001b[K     |█▉                              | 10 kB 23.8 MB/s eta 0:00:01\r\u001b[K     |███▊                            | 20 kB 13.4 MB/s eta 0:00:01\r\u001b[K     |█████▌                          | 30 kB 8.8 MB/s eta 0:00:01\r\u001b[K     |███████▍                        | 40 kB 4.5 MB/s eta 0:00:01\r\u001b[K     |█████████▏                      | 51 kB 5.0 MB/s eta 0:00:01\r\u001b[K     |███████████                     | 61 kB 5.5 MB/s eta 0:00:01\r\u001b[K     |████████████▉                   | 71 kB 4.9 MB/s eta 0:00:01\r\u001b[K     |██████████████▊                 | 81 kB 5.2 MB/s eta 0:00:01\r\u001b[K     |████████████████▌               | 92 kB 5.8 MB/s eta 0:00:01\r\u001b[K     |██████████████████▍             | 102 kB 5.0 MB/s eta 0:00:01\r\u001b[K     |████████████████████▏           | 112 kB 5.0 MB/s eta 0:00:01\r\u001b[K     |██████████████████████          | 122 kB 5.0 MB/s eta 0:00:01\r\u001b[K     |███████████████████████▉        | 133 kB 5.0 MB/s eta 0:00:01\r\u001b[K     |█████████████████████████▊      | 143 kB 5.0 MB/s eta 0:00:01\r\u001b[K     |███████████████████████████▋    | 153 kB 5.0 MB/s eta 0:00:01\r\u001b[K     |█████████████████████████████▍  | 163 kB 5.0 MB/s eta 0:00:01\r\u001b[K     |███████████████████████████████▎| 174 kB 5.0 MB/s eta 0:00:01\r\u001b[K     |████████████████████████████████| 178 kB 5.0 MB/s \n",
            "\u001b[?25hBuilding wheels for collected packages: pympler\n",
            "  Building wheel for pympler (setup.py) ... \u001b[?25l\u001b[?25hdone\n",
            "  Created wheel for pympler: filename=Pympler-0.9-py3-none-any.whl size=164824 sha256=3ecfe0d210aa614548f111de4544f3388eb16b12c5c8b90604fa34256fc81565\n",
            "  Stored in directory: /root/.cache/pip/wheels/1a/f3/d8/35d5614ea4ddd295ffb9372a5f2f9570d9593d1ea4be33ec6d\n",
            "Successfully built pympler\n",
            "Installing collected packages: pympler\n",
            "Successfully installed pympler-0.9\n"
          ]
        }
      ]
    },
    {
      "cell_type": "code",
      "metadata": {
        "id": "Fg3suf1XL9nq"
      },
      "source": [
        "from pympler.asizeof import asizeof"
      ],
      "execution_count": 32,
      "outputs": []
    },
    {
      "cell_type": "code",
      "metadata": {
        "colab": {
          "base_uri": "https://localhost:8080/"
        },
        "id": "8nSraQQ5MHeu",
        "outputId": "4b00b375-4864-4b6e-e2ab-cd063e0e5761"
      },
      "source": [
        "asizeof(m), asizeof(n)"
      ],
      "execution_count": 33,
      "outputs": [
        {
          "output_type": "execute_result",
          "data": {
            "text/plain": [
              "(856, 88528)"
            ]
          },
          "metadata": {},
          "execution_count": 33
        }
      ]
    },
    {
      "cell_type": "markdown",
      "metadata": {
        "id": "jgxQi6c7MjkR"
      },
      "source": [
        "Let's increase the size a little and see how it goes"
      ]
    },
    {
      "cell_type": "code",
      "metadata": {
        "id": "rzNt36PFMiDR"
      },
      "source": [
        "dim = 5000"
      ],
      "execution_count": 34,
      "outputs": []
    },
    {
      "cell_type": "code",
      "metadata": {
        "colab": {
          "base_uri": "https://localhost:8080/"
        },
        "id": "qt2IKOoOMqQu",
        "outputId": "0f5a2606-72be-4c41-ef80-ddde8eb12d27"
      },
      "source": [
        "%time m = Matrix((dim, dim), 0.0)"
      ],
      "execution_count": 35,
      "outputs": [
        {
          "output_type": "stream",
          "name": "stdout",
          "text": [
            "CPU times: user 191 ms, sys: 127 ms, total: 319 ms\n",
            "Wall time: 323 ms\n"
          ]
        }
      ]
    },
    {
      "cell_type": "code",
      "metadata": {
        "id": "G7s9Z18cMusZ"
      },
      "source": [
        "size = asizeof(m) / (1024 * 1024)\n",
        "\n",
        "print(\"{:.2f} MBs\".format(size))\n",
        "\n"
      ],
      "execution_count": 36,
      "outputs": []
    },
    {
      "cell_type": "markdown",
      "metadata": {
        "id": "oAVcBKGrM4m_"
      },
      "source": [
        "This is taking up so much memory because it's storing all the 0s explicitly! This is called a dense representation of matrices. Another way to do this is to not store 0s at all! That makes a matric sparse."
      ]
    },
    {
      "cell_type": "code",
      "metadata": {
        "id": "TW2fU7YjMyqe"
      },
      "source": [
        "# recall that we can get values from our matrix using indices\n",
        "\n",
        "def get(self, i,j):\n",
        "\n",
        "  # Error checking\n",
        "  if i < 0 or i > self.rows:\n",
        "    raise ValueError(\"Rows index out of range\")\n",
        "\n",
        "  if j < 0 or j > self.cols:\n",
        "    raise ValueError(\"column index out of range\")\n",
        "\n",
        "  # Value return\n",
        "  return self.A[i][j]\n",
        "\n",
        "Matrix.get = get\n"
      ],
      "execution_count": 37,
      "outputs": []
    },
    {
      "cell_type": "code",
      "metadata": {
        "colab": {
          "base_uri": "https://localhost:8080/"
        },
        "id": "oUTuvH0UNbwK",
        "outputId": "6888b5af-0c85-4314-c2dc-2fdb50589bbc"
      },
      "source": [
        "m.get(1, 2)"
      ],
      "execution_count": 38,
      "outputs": [
        {
          "output_type": "execute_result",
          "data": {
            "text/plain": [
              "0.0"
            ]
          },
          "metadata": {},
          "execution_count": 38
        }
      ]
    },
    {
      "cell_type": "code",
      "metadata": {
        "colab": {
          "base_uri": "https://localhost:8080/"
        },
        "id": "T_d2bJUgNoFG",
        "outputId": "85b1ede1-cc86-4f01-c27e-1f8ea525ab65"
      },
      "source": [
        "m.get(15, 0)"
      ],
      "execution_count": 39,
      "outputs": [
        {
          "output_type": "execute_result",
          "data": {
            "text/plain": [
              "0.0"
            ]
          },
          "metadata": {},
          "execution_count": 39
        }
      ]
    },
    {
      "cell_type": "code",
      "metadata": {
        "colab": {
          "base_uri": "https://localhost:8080/"
        },
        "id": "I2ART-sgNpqW",
        "outputId": "409a91b1-6886-42b1-c17b-2b1f8ad24b62"
      },
      "source": [
        "m.get(1, 10)"
      ],
      "execution_count": 40,
      "outputs": [
        {
          "output_type": "execute_result",
          "data": {
            "text/plain": [
              "0.0"
            ]
          },
          "metadata": {},
          "execution_count": 40
        }
      ]
    },
    {
      "cell_type": "markdown",
      "metadata": {
        "id": "NsLZDM4RNrgK"
      },
      "source": [
        "# **Matrix Representation (Sparse)**"
      ]
    },
    {
      "cell_type": "code",
      "metadata": {
        "id": "NGCvmn8sNqnI"
      },
      "source": [
        "class Matrix:\n",
        "\n",
        "  def __init__(self, dims):\n",
        "    self.rows = dims[0]\n",
        "    self.cols = dims[1]\n",
        "    self.vals = {}\n",
        "\n",
        "    # Let's assume for a minute that fill is 0\n",
        "\n",
        "    # obviously need a new __str__ here ....\n"
      ],
      "execution_count": 41,
      "outputs": []
    },
    {
      "cell_type": "code",
      "metadata": {
        "id": "Zy5Nzh4eODV7"
      },
      "source": [
        "def set(self, i, j, val):\n",
        "  self.vals[(i, j)] = val\n",
        "\n",
        "Matrix.set = set"
      ],
      "execution_count": 42,
      "outputs": []
    },
    {
      "cell_type": "code",
      "metadata": {
        "id": "ZA2Y4vPHOLVG"
      },
      "source": [
        "# Sparse implementation of get\n",
        "def get(self, i ,j):\n",
        "\n",
        "  # Error checking\n",
        "  if i > 0 or i < self.rows:\n",
        "    raise ValueError(\"Row index out of range\")\n",
        "\n",
        "  if j < 0 or j > self.cols:\n",
        "    raise ValueError(\"Column index out of range\")\n",
        "\n",
        "    # value return\n",
        "    if (i, j) not in self.vals:\n",
        "      return 0\n",
        "\n",
        "    return self.vals[(i, j)]\n",
        "\n",
        "Matrix.get = get"
      ],
      "execution_count": 43,
      "outputs": []
    },
    {
      "cell_type": "code",
      "metadata": {
        "id": "McAOk0f8O6Rb"
      },
      "source": [
        "m = Matrix((5, 5))"
      ],
      "execution_count": 44,
      "outputs": []
    },
    {
      "cell_type": "code",
      "metadata": {
        "colab": {
          "base_uri": "https://localhost:8080/"
        },
        "id": "hYVZNGtaPCzM",
        "outputId": "9eb91fb4-10a2-4464-eec4-ea914974f532"
      },
      "source": [
        "print(m.vals)"
      ],
      "execution_count": 45,
      "outputs": [
        {
          "output_type": "stream",
          "name": "stdout",
          "text": [
            "{}\n"
          ]
        }
      ]
    },
    {
      "cell_type": "code",
      "metadata": {
        "id": "KEnApqLLPE81"
      },
      "source": [
        ""
      ],
      "execution_count": 54,
      "outputs": []
    },
    {
      "cell_type": "code",
      "metadata": {
        "colab": {
          "base_uri": "https://localhost:8080/",
          "height": 282
        },
        "id": "aspqDE3GPH03",
        "outputId": "3e1659cb-42be-4d49-ba6a-e300294e63dd"
      },
      "source": [
        "m.get(10, 2)\n"
      ],
      "execution_count": 47,
      "outputs": [
        {
          "output_type": "error",
          "ename": "ValueError",
          "evalue": "ignored",
          "traceback": [
            "\u001b[0;31m---------------------------------------------------------------------------\u001b[0m",
            "\u001b[0;31mValueError\u001b[0m                                Traceback (most recent call last)",
            "\u001b[0;32m<ipython-input-47-eed0eedf0876>\u001b[0m in \u001b[0;36m<module>\u001b[0;34m()\u001b[0m\n\u001b[0;32m----> 1\u001b[0;31m \u001b[0mm\u001b[0m\u001b[0;34m.\u001b[0m\u001b[0mget\u001b[0m\u001b[0;34m(\u001b[0m\u001b[0;36m10\u001b[0m\u001b[0;34m,\u001b[0m \u001b[0;36m2\u001b[0m\u001b[0;34m)\u001b[0m\u001b[0;34m\u001b[0m\u001b[0;34m\u001b[0m\u001b[0m\n\u001b[0m",
            "\u001b[0;32m<ipython-input-43-ca4fb3ea74ba>\u001b[0m in \u001b[0;36mget\u001b[0;34m(self, i, j)\u001b[0m\n\u001b[1;32m      4\u001b[0m   \u001b[0;31m# Error checking\u001b[0m\u001b[0;34m\u001b[0m\u001b[0;34m\u001b[0m\u001b[0;34m\u001b[0m\u001b[0m\n\u001b[1;32m      5\u001b[0m   \u001b[0;32mif\u001b[0m \u001b[0mi\u001b[0m \u001b[0;34m>\u001b[0m \u001b[0;36m0\u001b[0m \u001b[0;32mor\u001b[0m \u001b[0mi\u001b[0m \u001b[0;34m<\u001b[0m \u001b[0mself\u001b[0m\u001b[0;34m.\u001b[0m\u001b[0mrows\u001b[0m\u001b[0;34m:\u001b[0m\u001b[0;34m\u001b[0m\u001b[0;34m\u001b[0m\u001b[0m\n\u001b[0;32m----> 6\u001b[0;31m     \u001b[0;32mraise\u001b[0m \u001b[0mValueError\u001b[0m\u001b[0;34m(\u001b[0m\u001b[0;34m\"Row index out of range\"\u001b[0m\u001b[0;34m)\u001b[0m\u001b[0;34m\u001b[0m\u001b[0;34m\u001b[0m\u001b[0m\n\u001b[0m\u001b[1;32m      7\u001b[0m \u001b[0;34m\u001b[0m\u001b[0m\n\u001b[1;32m      8\u001b[0m   \u001b[0;32mif\u001b[0m \u001b[0mj\u001b[0m \u001b[0;34m<\u001b[0m \u001b[0;36m0\u001b[0m \u001b[0;32mor\u001b[0m \u001b[0mj\u001b[0m \u001b[0;34m>\u001b[0m \u001b[0mself\u001b[0m\u001b[0;34m.\u001b[0m\u001b[0mcols\u001b[0m\u001b[0;34m:\u001b[0m\u001b[0;34m\u001b[0m\u001b[0;34m\u001b[0m\u001b[0m\n",
            "\u001b[0;31mValueError\u001b[0m: Row index out of range"
          ]
        }
      ]
    },
    {
      "cell_type": "code",
      "metadata": {
        "id": "EEOgGEOgPL-U"
      },
      "source": [
        "m.set(1, 2, 15.0)\n"
      ],
      "execution_count": 48,
      "outputs": []
    },
    {
      "cell_type": "code",
      "metadata": {
        "id": "M53IpaczPPvG"
      },
      "source": [
        ""
      ],
      "execution_count": 54,
      "outputs": []
    },
    {
      "cell_type": "code",
      "metadata": {
        "id": "XLwUwxSZPR2J"
      },
      "source": [
        "m.set(1, 4, 29.9)\n"
      ],
      "execution_count": 50,
      "outputs": []
    },
    {
      "cell_type": "code",
      "metadata": {
        "id": "FOokLu8CPVDO"
      },
      "source": [
        ""
      ],
      "execution_count": 54,
      "outputs": []
    },
    {
      "cell_type": "code",
      "metadata": {
        "id": "ZhSWyNKEPWMT"
      },
      "source": [
        "dim = 5_000_0000_000\n",
        "m = Matrix((dim, dim))"
      ],
      "execution_count": 52,
      "outputs": []
    },
    {
      "cell_type": "code",
      "metadata": {
        "colab": {
          "base_uri": "https://localhost:8080/"
        },
        "id": "PwqZ5GINPbhM",
        "outputId": "8da47bdc-b034-4067-cb1c-2a5a1292eb55"
      },
      "source": [
        "asizeof(m)\n"
      ],
      "execution_count": 53,
      "outputs": [
        {
          "output_type": "execute_result",
          "data": {
            "text/plain": [
              "632"
            ]
          },
          "metadata": {},
          "execution_count": 53
        }
      ]
    },
    {
      "cell_type": "code",
      "metadata": {
        "id": "ZLRQ0QobPdTo"
      },
      "source": [
        "# TODO: create addition, subtraction and matrix multiplication methods\n"
      ],
      "execution_count": 54,
      "outputs": []
    },
    {
      "cell_type": "code",
      "metadata": {
        "id": "YT5LX6f8Pei-"
      },
      "source": [
        ""
      ],
      "execution_count": null,
      "outputs": []
    }
  ]
}