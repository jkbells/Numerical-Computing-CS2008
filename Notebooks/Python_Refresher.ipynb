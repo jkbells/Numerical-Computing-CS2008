{
  "nbformat": 4,
  "nbformat_minor": 0,
  "metadata": {
    "colab": {
      "name": " Python Refresher.ipynb",
      "provenance": [],
      "collapsed_sections": []
    },
    "kernelspec": {
      "display_name": "Python 3",
      "name": "python3"
    },
    "language_info": {
      "name": "python"
    }
  },
  "cells": [
    {
      "cell_type": "markdown",
      "metadata": {
        "id": "avLqeqiUtrM4"
      },
      "source": [
        "# **1**. **Python Refresher** "
      ]
    },
    {
      "cell_type": "code",
      "metadata": {
        "id": "dXnooYBnqylM"
      },
      "source": [
        "x = 5"
      ],
      "execution_count": 18,
      "outputs": []
    },
    {
      "cell_type": "code",
      "metadata": {
        "id": "mvziOhj2uM2S"
      },
      "source": [
        "def good_enough(x, guess): \n",
        "    return abs((guess * guess) - x) < 0.00000000001\n",
        "\n",
        "def improve_guess(x, guess): \n",
        "    return (guess + x/guess)/2 \n",
        "\n",
        "def sqrt(x, guess=0.0001): \n",
        "    if good_enough(x, guess): \n",
        "        return guess \n",
        "    else: \n",
        "        return sqrt(x, improve_guess(x, guess))"
      ],
      "execution_count": 19,
      "outputs": []
    },
    {
      "cell_type": "code",
      "metadata": {
        "colab": {
          "base_uri": "https://localhost:8080/"
        },
        "id": "xuQ-AH20u9Hl",
        "outputId": "6443a870-0f5b-48ac-b93b-812130ecf77c"
      },
      "source": [
        "sqrt(36)"
      ],
      "execution_count": 20,
      "outputs": [
        {
          "output_type": "execute_result",
          "data": {
            "text/plain": [
              "6.000000000000008"
            ]
          },
          "metadata": {},
          "execution_count": 20
        }
      ]
    },
    {
      "cell_type": "code",
      "metadata": {
        "colab": {
          "base_uri": "https://localhost:8080/"
        },
        "id": "UabYNMiku_cK",
        "outputId": "33245d52-60b0-4e39-be51-b6d2ad76c250"
      },
      "source": [
        "p = 0\n",
        "while (p < 10): \n",
        "    print(p)\n",
        "    p += 1"
      ],
      "execution_count": 21,
      "outputs": [
        {
          "output_type": "stream",
          "name": "stdout",
          "text": [
            "0\n",
            "1\n",
            "2\n",
            "3\n",
            "4\n",
            "5\n",
            "6\n",
            "7\n",
            "8\n",
            "9\n"
          ]
        }
      ]
    },
    {
      "cell_type": "code",
      "metadata": {
        "colab": {
          "base_uri": "https://localhost:8080/"
        },
        "id": "E4GJ8os5v170",
        "outputId": "5ded5882-df5f-47ec-bc4c-d261224bf554"
      },
      "source": [
        "for i in range(10): \n",
        "    print(i)"
      ],
      "execution_count": 22,
      "outputs": [
        {
          "output_type": "stream",
          "name": "stdout",
          "text": [
            "0\n",
            "1\n",
            "2\n",
            "3\n",
            "4\n",
            "5\n",
            "6\n",
            "7\n",
            "8\n",
            "9\n"
          ]
        }
      ]
    },
    {
      "cell_type": "code",
      "metadata": {
        "id": "w07sxWezv5id"
      },
      "source": [
        "l = [1, 2, 4]"
      ],
      "execution_count": 23,
      "outputs": []
    },
    {
      "cell_type": "code",
      "metadata": {
        "colab": {
          "base_uri": "https://localhost:8080/"
        },
        "id": "jmdRkT30v7q1",
        "outputId": "9a905d26-dc7c-4296-feb7-b433c7889ab2"
      },
      "source": [
        "for i in [1, 2, 5]: \n",
        "    print(\"Square root of \" + str(i)  + \": \",     end=\"\") \n",
        "    print(sqrt(i))"
      ],
      "execution_count": 24,
      "outputs": [
        {
          "output_type": "stream",
          "name": "stdout",
          "text": [
            "Square root of 1: 1.0\n",
            "Square root of 2: 1.4142135623730954\n",
            "Square root of 5: 2.23606797749979\n"
          ]
        }
      ]
    },
    {
      "cell_type": "code",
      "metadata": {
        "colab": {
          "base_uri": "https://localhost:8080/"
        },
        "id": "kteAbp2LwWDp",
        "outputId": "d90bc248-8fa6-425f-dd44-da8cff4660e7"
      },
      "source": [
        "d = {1: \"one\", \n",
        "     2: \"two\"}\n",
        "\n",
        "\n",
        "print(d[1])\n",
        "print(d.items())"
      ],
      "execution_count": 25,
      "outputs": [
        {
          "output_type": "stream",
          "name": "stdout",
          "text": [
            "one\n",
            "dict_items([(1, 'one'), (2, 'two')])\n"
          ]
        }
      ]
    },
    {
      "cell_type": "code",
      "metadata": {
        "colab": {
          "base_uri": "https://localhost:8080/"
        },
        "id": "GqBfy4sO9ZPi",
        "outputId": "d5fd672f-e50f-402b-971d-808732e7e589"
      },
      "source": [
        "for k, v in d.items(): \n",
        "    print(k, v)"
      ],
      "execution_count": 26,
      "outputs": [
        {
          "output_type": "stream",
          "name": "stdout",
          "text": [
            "1 one\n",
            "2 two\n"
          ]
        }
      ]
    },
    {
      "cell_type": "code",
      "metadata": {
        "colab": {
          "base_uri": "https://localhost:8080/"
        },
        "id": "lS393Si7Ltyn",
        "outputId": "c0ca663c-cb0e-4698-d043-ce85e49ad9bd"
      },
      "source": [
        "list(d.keys())"
      ],
      "execution_count": 27,
      "outputs": [
        {
          "output_type": "execute_result",
          "data": {
            "text/plain": [
              "[1, 2]"
            ]
          },
          "metadata": {},
          "execution_count": 27
        }
      ]
    },
    {
      "cell_type": "code",
      "metadata": {
        "id": "XWRlPp1HLvpJ"
      },
      "source": [
        "a = [1, 2, 3, 4, 5]\n",
        "b = [6, 7, 8, 9, 0]\n",
        "\n",
        "merged = list(zip(a, b))"
      ],
      "execution_count": 28,
      "outputs": []
    },
    {
      "cell_type": "code",
      "metadata": {
        "colab": {
          "base_uri": "https://localhost:8080/"
        },
        "id": "Hb-QPRd8NDiI",
        "outputId": "e3852366-facf-4295-a5dc-6d8278fa0bde"
      },
      "source": [
        "merged"
      ],
      "execution_count": 29,
      "outputs": [
        {
          "output_type": "execute_result",
          "data": {
            "text/plain": [
              "[(1, 6), (2, 7), (3, 8), (4, 9), (5, 0)]"
            ]
          },
          "metadata": {},
          "execution_count": 29
        }
      ]
    },
    {
      "cell_type": "code",
      "metadata": {
        "colab": {
          "base_uri": "https://localhost:8080/"
        },
        "id": "1sE3n3yUNEHj",
        "outputId": "bf47485f-7cda-4f4d-b794-a914d44924fe"
      },
      "source": [
        "# Real world usecase of ZIP: combining column headers with row values \n",
        "# much more, along with usecases, here: \n",
        "# https://stackoverflow.com/questions/2429692\n",
        "\n",
        "fields = [\"id\", \"name\", \"location\"]\n",
        "values = [\"13\", \"bill\", \"redmond\"]\n",
        "dict(zip(fields, values))"
      ],
      "execution_count": 30,
      "outputs": [
        {
          "output_type": "execute_result",
          "data": {
            "text/plain": [
              "{'id': '13', 'location': 'redmond', 'name': 'bill'}"
            ]
          },
          "metadata": {},
          "execution_count": 30
        }
      ]
    },
    {
      "cell_type": "markdown",
      "metadata": {
        "id": "YG0u0fzSOheI"
      },
      "source": [
        "Very important: When trying to solve any problem, first see if you can do it with lists or dictionaries (dynamic arrays and maps). These will solve a majority of your problems.\n",
        "\n",
        "**2. OOP Concepts in Python**\n",
        "\n",
        "Creating a class with a constructor is simple with a minor difference: self\n",
        "\n",
        "To access member variables and methods, you must always use self. This is not optional as in other languages."
      ]
    },
    {
      "cell_type": "code",
      "metadata": {
        "id": "wV-RaYfDOdLn"
      },
      "source": [
        "class Point:\n",
        "    # constructors are defined using a special method, which must be named __init__ \n",
        "    \n",
        "    def __init__(self, x=0, y=0): \n",
        "        self.x = x\n",
        "        self.y = y \n",
        "        \n",
        "    def __str__(self): \n",
        "        return \"[\" + str(self.x) + \",\" + str(self.y) + \"]\"\n"
      ],
      "execution_count": 31,
      "outputs": []
    },
    {
      "cell_type": "code",
      "metadata": {
        "colab": {
          "base_uri": "https://localhost:8080/"
        },
        "id": "oOF4E92vPuFd",
        "outputId": "35fd1e94-3bfe-4e84-a556-9f343556cb1a"
      },
      "source": [
        "p1 = Point()   # p1 is a reference variable \n",
        "print(\"p1 = \", p1.x)\n",
        "print(\"p1 = \", p1)\n",
        "\n",
        "\n",
        "p2 = Point(2, 4)    # notice that we do NOT pass in self. That is automatically done for us! \n",
        "\n",
        "\n",
        "print(\"p2 = \", p2.x)\n",
        "print(\"p2 = \", p2)"
      ],
      "execution_count": 33,
      "outputs": [
        {
          "output_type": "stream",
          "name": "stdout",
          "text": [
            "p1 =  0\n",
            "p1 =  [0,0]\n",
            "p2 =  2\n",
            "p2 =  [2,4]\n"
          ]
        }
      ]
    },
    {
      "cell_type": "code",
      "metadata": {
        "colab": {
          "base_uri": "https://localhost:8080/"
        },
        "id": "dJ84qt8ZTW4Y",
        "outputId": "4a80b85c-9eb7-4277-957f-ac6b51b43b56"
      },
      "source": [
        "print(p1)"
      ],
      "execution_count": 34,
      "outputs": [
        {
          "output_type": "stream",
          "name": "stdout",
          "text": [
            "[0,0]\n"
          ]
        }
      ]
    },
    {
      "cell_type": "markdown",
      "metadata": {
        "id": "3GdohX9gUoo5"
      },
      "source": [
        "# **Composition**\n",
        "\n",
        "Composition is simple as always."
      ]
    },
    {
      "cell_type": "code",
      "metadata": {
        "id": "G8kLqcVGTov7"
      },
      "source": [
        "class Shape: \n",
        "    def __init__(self, points): \n",
        "        self.points = points \n",
        "    \n",
        "    def __str__(self): \n",
        "        ret = \"\" \n",
        "        \n",
        "        for i in self.points:\n",
        "            ret += str(i) + \" - \"\n",
        "            \n",
        "        return ret"
      ],
      "execution_count": 35,
      "outputs": []
    },
    {
      "cell_type": "code",
      "metadata": {
        "id": "-f_jMKg0V0Om"
      },
      "source": [
        "p1 = Point(5, 5) \n",
        "p2 = Point(10, 5) \n",
        "p3 = Point(5, 10) \n",
        "p = [p1, p2, p3]\n",
        "\n",
        "sh = Shape(p)"
      ],
      "execution_count": 36,
      "outputs": []
    },
    {
      "cell_type": "code",
      "metadata": {
        "colab": {
          "base_uri": "https://localhost:8080/"
        },
        "id": "Pp7h0sQGV5V5",
        "outputId": "42c11d37-0fd4-465e-d947-41b607a74d90"
      },
      "source": [
        "print(sh)"
      ],
      "execution_count": 37,
      "outputs": [
        {
          "output_type": "stream",
          "name": "stdout",
          "text": [
            "[5,5] - [10,5] - [5,10] - \n"
          ]
        }
      ]
    },
    {
      "cell_type": "markdown",
      "metadata": {
        "id": "w1hiYrjEWjAk"
      },
      "source": [
        "We can add methods to class even after it has been defined!"
      ]
    },
    {
      "cell_type": "code",
      "metadata": {
        "id": "Gy5xpqvYWHqH"
      },
      "source": [
        "def print_points(self): \n",
        "    for i in self.points: \n",
        "        print(i) \n",
        "        \n",
        "Shape.print_points = print_points"
      ],
      "execution_count": 38,
      "outputs": []
    },
    {
      "cell_type": "code",
      "metadata": {
        "colab": {
          "base_uri": "https://localhost:8080/"
        },
        "id": "dt2t7PZPW97z",
        "outputId": "e5b44d5e-ff6b-4dcc-c3f5-da8f9697a132"
      },
      "source": [
        "sh.print_points()\n"
      ],
      "execution_count": 39,
      "outputs": [
        {
          "output_type": "stream",
          "name": "stdout",
          "text": [
            "[5,5]\n",
            "[10,5]\n",
            "[5,10]\n"
          ]
        }
      ]
    },
    {
      "cell_type": "markdown",
      "metadata": {
        "id": "BMrUAo6xXFrF"
      },
      "source": [
        "\n",
        "# **Inheritance**\n",
        "\n",
        "Inhertiance syntax is also slightly different but quite easy."
      ]
    },
    {
      "cell_type": "code",
      "metadata": {
        "id": "VxdgZHg-XCOs"
      },
      "source": [
        "class Triangle(Shape):    # Triangle inhertis from Shape \n",
        "    pass     # pass means I'm not going to have anything in this block"
      ],
      "execution_count": 40,
      "outputs": []
    },
    {
      "cell_type": "code",
      "metadata": {
        "id": "N3uM_VJpXusz"
      },
      "source": [
        "t = Triangle(p)"
      ],
      "execution_count": 41,
      "outputs": []
    },
    {
      "cell_type": "code",
      "metadata": {
        "colab": {
          "base_uri": "https://localhost:8080/"
        },
        "id": "2hTUTYZbXxAw",
        "outputId": "6cfa5bf0-6164-482d-c043-8247cf3fc2cb"
      },
      "source": [
        "t.print_points()   # automatically inherited"
      ],
      "execution_count": 42,
      "outputs": [
        {
          "output_type": "stream",
          "name": "stdout",
          "text": [
            "[5,5]\n",
            "[10,5]\n",
            "[5,10]\n"
          ]
        }
      ]
    },
    {
      "cell_type": "code",
      "metadata": {
        "id": "OgF9YvuFXy66"
      },
      "source": [
        "def get_area(self): \n",
        "    vertices = self.points\n",
        "    n = len(vertices) # of corners\n",
        "    a = 0.0\n",
        "    for i in range(n):\n",
        "        j = (i + 1) % n\n",
        "        a += abs(vertices[i].x * vertices[j].y - vertices[j].x * vertices[i].y)\n",
        "    return a / 2.0\n",
        "\n",
        "Triangle.get_area = get_area"
      ],
      "execution_count": 43,
      "outputs": []
    },
    {
      "cell_type": "code",
      "metadata": {
        "colab": {
          "base_uri": "https://localhost:8080/"
        },
        "id": "mVunyPLSX1ya",
        "outputId": "463554c8-f81a-40ab-bc94-9777e7ecb54b"
      },
      "source": [
        "t.get_area()"
      ],
      "execution_count": 44,
      "outputs": [
        {
          "output_type": "execute_result",
          "data": {
            "text/plain": [
              "62.5"
            ]
          },
          "metadata": {},
          "execution_count": 44
        }
      ]
    },
    {
      "cell_type": "markdown",
      "metadata": {
        "id": "iDk_fXJOYAlG"
      },
      "source": [
        "# **Access Parent Class' Overridden Methods**"
      ]
    },
    {
      "cell_type": "code",
      "metadata": {
        "id": "EPXCwIBhX4O_"
      },
      "source": [
        "class Rectangle:\n",
        "    def __init__(self, length, width):\n",
        "        self.length = length\n",
        "        self.width = width\n",
        "\n",
        "    def area(self):\n",
        "        return self.length * self.width\n",
        "\n",
        "    def perimeter(self):\n",
        "        return 2 * self.length + 2 * self.width\n",
        "\n",
        "    def __str__(self): \n",
        "        return \"L: \" + str(self.length) + \" W: \" + str(self.width)"
      ],
      "execution_count": 45,
      "outputs": []
    },
    {
      "cell_type": "code",
      "metadata": {
        "colab": {
          "base_uri": "https://localhost:8080/"
        },
        "id": "hrX7BtFxbGPF",
        "outputId": "f9b851e2-3c05-4126-9d4a-d2068da24a83"
      },
      "source": [
        "rect = Rectangle(2, 4) \n",
        "print(rect)"
      ],
      "execution_count": 46,
      "outputs": [
        {
          "output_type": "stream",
          "name": "stdout",
          "text": [
            "L: 2 W: 4\n"
          ]
        }
      ]
    },
    {
      "cell_type": "code",
      "metadata": {
        "id": "J1pcuJS9bJRn"
      },
      "source": [
        "# Here we declare that the Square class inherits from the Rectangle class\n",
        "class Square(Rectangle):\n",
        "    def __init__(self, length):\n",
        "        super().__init__(length, length)\n",
        "        \n",
        "    def __str__(self): \n",
        "        return \"Square: \" + super().__str__()"
      ],
      "execution_count": 47,
      "outputs": []
    },
    {
      "cell_type": "code",
      "metadata": {
        "colab": {
          "base_uri": "https://localhost:8080/"
        },
        "id": "wfkfpuBYbMPJ",
        "outputId": "7f223b17-1aa4-411a-ccc1-51f881393c0d"
      },
      "source": [
        "square = Square(4)\n",
        "square.area()"
      ],
      "execution_count": 48,
      "outputs": [
        {
          "output_type": "execute_result",
          "data": {
            "text/plain": [
              "16"
            ]
          },
          "metadata": {},
          "execution_count": 48
        }
      ]
    },
    {
      "cell_type": "code",
      "metadata": {
        "colab": {
          "base_uri": "https://localhost:8080/"
        },
        "id": "EsgrgNyxbQ9x",
        "outputId": "d0f6c69e-6685-4827-bb5d-8bb65bef77a3"
      },
      "source": [
        "print(square)"
      ],
      "execution_count": 49,
      "outputs": [
        {
          "output_type": "stream",
          "name": "stdout",
          "text": [
            "Square: L: 4 W: 4\n"
          ]
        }
      ]
    },
    {
      "cell_type": "markdown",
      "metadata": {
        "id": "G2Ng3S26bYAW"
      },
      "source": [
        "# **Polymorphism**\n",
        "\n",
        "You get that for free in Python. Just call the method. If it's overridden, the child class' method will be executed.\n",
        "\n",
        "# **Access Modifiers**\n",
        "\n",
        "There are none. By convention, methods starting with _ are considered private and shouldn't be called from the outside. If you still want to do it, the response is, \"good luck!\".\n",
        "\n",
        "See more details about classes on https://docs.python.org/3/tutorial/classes.html"
      ]
    },
    {
      "cell_type": "code",
      "metadata": {
        "id": "LPcwzjMXbTHn"
      },
      "source": [
        ""
      ],
      "execution_count": null,
      "outputs": []
    }
  ]
}