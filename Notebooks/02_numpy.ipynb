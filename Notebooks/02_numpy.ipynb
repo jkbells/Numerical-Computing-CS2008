{
  "nbformat": 4,
  "nbformat_minor": 0,
  "metadata": {
    "colab": {
      "name": "02-numpy.ipynb",
      "provenance": []
    },
    "kernelspec": {
      "name": "python3",
      "display_name": "Python 3"
    },
    "language_info": {
      "name": "python"
    }
  },
  "cells": [
    {
      "cell_type": "markdown",
      "metadata": {
        "id": "Eb57T4QlQnjH"
      },
      "source": [
        "# **Numpy Intro**"
      ]
    },
    {
      "cell_type": "code",
      "metadata": {
        "colab": {
          "base_uri": "https://localhost:8080/"
        },
        "id": "adlKDtEvP287",
        "outputId": "5c14de67-7016-4331-aa46-1e619af447d9"
      },
      "source": [
        "%matplotlib inline\n",
        "%run mplimp.py"
      ],
      "execution_count": 2,
      "outputs": [
        {
          "output_type": "stream",
          "name": "stderr",
          "text": [
            "ERROR:root:File `'mplimp.py'` not found.\n"
          ]
        }
      ]
    },
    {
      "cell_type": "code",
      "metadata": {
        "id": "DtxmiYeaQw-F"
      },
      "source": [
        "import numpy as np"
      ],
      "execution_count": 3,
      "outputs": []
    },
    {
      "cell_type": "code",
      "metadata": {
        "id": "6n2CG0EyQzZI"
      },
      "source": [
        "np.random.seed(1337)"
      ],
      "execution_count": 4,
      "outputs": []
    },
    {
      "cell_type": "markdown",
      "metadata": {
        "id": "84McekAFQ6TG"
      },
      "source": [
        "# **Basics of Matrices**"
      ]
    },
    {
      "cell_type": "code",
      "metadata": {
        "colab": {
          "base_uri": "https://localhost:8080/"
        },
        "id": "-5iLks-kQ5xm",
        "outputId": "19274f36-8261-4874-af8e-16dffb128020"
      },
      "source": [
        "x = np.array([1, 4, 3])\n",
        "x"
      ],
      "execution_count": 5,
      "outputs": [
        {
          "output_type": "execute_result",
          "data": {
            "text/plain": [
              "array([1, 4, 3])"
            ]
          },
          "metadata": {},
          "execution_count": 5
        }
      ]
    },
    {
      "cell_type": "code",
      "metadata": {
        "colab": {
          "base_uri": "https://localhost:8080/"
        },
        "id": "z9GucplFRD6W",
        "outputId": "ff762c00-27f7-420e-8d53-3609edb439c4"
      },
      "source": [
        "y = np.array([[1 ,4 ,3],\n",
        "              [9, 2, 7]])\n",
        "y"
      ],
      "execution_count": 6,
      "outputs": [
        {
          "output_type": "execute_result",
          "data": {
            "text/plain": [
              "array([[1, 4, 3],\n",
              "       [9, 2, 7]])"
            ]
          },
          "metadata": {},
          "execution_count": 6
        }
      ]
    },
    {
      "cell_type": "code",
      "metadata": {
        "colab": {
          "base_uri": "https://localhost:8080/"
        },
        "id": "O9QYTimsRMw5",
        "outputId": "61dca73a-26d6-4c35-ea3b-0ac143060522"
      },
      "source": [
        "x.shape"
      ],
      "execution_count": 7,
      "outputs": [
        {
          "output_type": "execute_result",
          "data": {
            "text/plain": [
              "(3,)"
            ]
          },
          "metadata": {},
          "execution_count": 7
        }
      ]
    },
    {
      "cell_type": "code",
      "metadata": {
        "colab": {
          "base_uri": "https://localhost:8080/"
        },
        "id": "R8aTF3ZcRPzo",
        "outputId": "636996a2-8450-4b41-b877-3936cc95d40f"
      },
      "source": [
        "y.shape"
      ],
      "execution_count": 8,
      "outputs": [
        {
          "output_type": "execute_result",
          "data": {
            "text/plain": [
              "(2, 3)"
            ]
          },
          "metadata": {},
          "execution_count": 8
        }
      ]
    },
    {
      "cell_type": "code",
      "metadata": {
        "id": "gdUkprlRRQ79"
      },
      "source": [
        "z = np.array([[1, 4, 3]]) # what's the difference"
      ],
      "execution_count": 9,
      "outputs": []
    },
    {
      "cell_type": "code",
      "metadata": {
        "colab": {
          "base_uri": "https://localhost:8080/"
        },
        "id": "yxld2ckZ5J4K",
        "outputId": "1f260cf1-3482-47f9-b457-96421d958018"
      },
      "source": [
        "z.shape"
      ],
      "execution_count": 10,
      "outputs": [
        {
          "output_type": "execute_result",
          "data": {
            "text/plain": [
              "(1, 3)"
            ]
          },
          "metadata": {},
          "execution_count": 10
        }
      ]
    },
    {
      "cell_type": "code",
      "metadata": {
        "colab": {
          "base_uri": "https://localhost:8080/"
        },
        "id": "cCARtIzw5Kxw",
        "outputId": "16b8c976-6568-4a75-88c1-6f0aeda24b48"
      },
      "source": [
        "np.arange(0.5, 3 ,0.5)"
      ],
      "execution_count": 12,
      "outputs": [
        {
          "output_type": "execute_result",
          "data": {
            "text/plain": [
              "array([0.5, 1. , 1.5, 2. , 2.5])"
            ]
          },
          "metadata": {},
          "execution_count": 12
        }
      ]
    },
    {
      "cell_type": "code",
      "metadata": {
        "colab": {
          "base_uri": "https://localhost:8080/"
        },
        "id": "LCwXlJug5Z09",
        "outputId": "9cdb660f-5c53-49a9-a5fa-acf60a81747f"
      },
      "source": [
        "np.arange(0.5, 10, 1).shape\n"
      ],
      "execution_count": 13,
      "outputs": [
        {
          "output_type": "execute_result",
          "data": {
            "text/plain": [
              "(10,)"
            ]
          },
          "metadata": {},
          "execution_count": 13
        }
      ]
    },
    {
      "cell_type": "code",
      "metadata": {
        "colab": {
          "base_uri": "https://localhost:8080/"
        },
        "id": "wdfcQ8xq5hV0",
        "outputId": "b8310e86-a7b1-48d0-cec6-4d1a6dcf1e4c"
      },
      "source": [
        "np.arange(0.5, 10, 1).reshape(5, 2).shape\n"
      ],
      "execution_count": 14,
      "outputs": [
        {
          "output_type": "execute_result",
          "data": {
            "text/plain": [
              "(5, 2)"
            ]
          },
          "metadata": {},
          "execution_count": 14
        }
      ]
    },
    {
      "cell_type": "code",
      "metadata": {
        "colab": {
          "base_uri": "https://localhost:8080/",
          "height": 163
        },
        "id": "tnnmo-KK5q1m",
        "outputId": "dfc1b796-e980-41c3-dd64-40e2eb3b3800"
      },
      "source": [
        "np.arange(0.5, 10, 1).reshape(5, 3).shape  # !!\n"
      ],
      "execution_count": 15,
      "outputs": [
        {
          "output_type": "error",
          "ename": "ValueError",
          "evalue": "ignored",
          "traceback": [
            "\u001b[0;31m---------------------------------------------------------------------------\u001b[0m",
            "\u001b[0;31mValueError\u001b[0m                                Traceback (most recent call last)",
            "\u001b[0;32m<ipython-input-15-f23a46dc413b>\u001b[0m in \u001b[0;36m<module>\u001b[0;34m()\u001b[0m\n\u001b[0;32m----> 1\u001b[0;31m \u001b[0mnp\u001b[0m\u001b[0;34m.\u001b[0m\u001b[0marange\u001b[0m\u001b[0;34m(\u001b[0m\u001b[0;36m0.5\u001b[0m\u001b[0;34m,\u001b[0m \u001b[0;36m10\u001b[0m\u001b[0;34m,\u001b[0m \u001b[0;36m1\u001b[0m\u001b[0;34m)\u001b[0m\u001b[0;34m.\u001b[0m\u001b[0mreshape\u001b[0m\u001b[0;34m(\u001b[0m\u001b[0;36m5\u001b[0m\u001b[0;34m,\u001b[0m \u001b[0;36m3\u001b[0m\u001b[0;34m)\u001b[0m\u001b[0;34m.\u001b[0m\u001b[0mshape\u001b[0m  \u001b[0;31m# !!\u001b[0m\u001b[0;34m\u001b[0m\u001b[0;34m\u001b[0m\u001b[0m\n\u001b[0m",
            "\u001b[0;31mValueError\u001b[0m: cannot reshape array of size 10 into shape (5,3)"
          ]
        }
      ]
    },
    {
      "cell_type": "code",
      "metadata": {
        "colab": {
          "base_uri": "https://localhost:8080/"
        },
        "id": "e-PN5M505tL1",
        "outputId": "706ec373-cef5-40f8-c8d4-8b5d87c9e4bc"
      },
      "source": [
        "# Evenly spaced but we don't know the step \n",
        "np.linspace(3, 9, 10)"
      ],
      "execution_count": 16,
      "outputs": [
        {
          "output_type": "execute_result",
          "data": {
            "text/plain": [
              "array([3.        , 3.66666667, 4.33333333, 5.        , 5.66666667,\n",
              "       6.33333333, 7.        , 7.66666667, 8.33333333, 9.        ])"
            ]
          },
          "metadata": {},
          "execution_count": 16
        }
      ]
    },
    {
      "cell_type": "code",
      "metadata": {
        "colab": {
          "base_uri": "https://localhost:8080/"
        },
        "id": "gaz-Xmws5x7A",
        "outputId": "a762f27e-3587-4d49-f813-acee0a6dfa40"
      },
      "source": [
        "print(x)\n",
        "print(x[1]) \n",
        "print(x[1:])"
      ],
      "execution_count": 17,
      "outputs": [
        {
          "output_type": "stream",
          "name": "stdout",
          "text": [
            "[1 4 3]\n",
            "4\n",
            "[4 3]\n"
          ]
        }
      ]
    },
    {
      "cell_type": "code",
      "metadata": {
        "colab": {
          "base_uri": "https://localhost:8080/"
        },
        "id": "eb2bAyHj51wv",
        "outputId": "0a8aec72-06f5-40b9-d732-f04970f11216"
      },
      "source": [
        "print(y)\n",
        "y[0, 1]   # this is extra in numpy"
      ],
      "execution_count": 18,
      "outputs": [
        {
          "output_type": "stream",
          "name": "stdout",
          "text": [
            "[[1 4 3]\n",
            " [9 2 7]]\n"
          ]
        },
        {
          "output_type": "execute_result",
          "data": {
            "text/plain": [
              "4"
            ]
          },
          "metadata": {},
          "execution_count": 18
        }
      ]
    },
    {
      "cell_type": "code",
      "metadata": {
        "colab": {
          "base_uri": "https://localhost:8080/"
        },
        "id": "3Fc_NwkU55HO",
        "outputId": "138da67f-2f29-4a16-8823-15b5ba6676b7"
      },
      "source": [
        "y[:, 1]\n"
      ],
      "execution_count": 19,
      "outputs": [
        {
          "output_type": "execute_result",
          "data": {
            "text/plain": [
              "array([4, 2])"
            ]
          },
          "metadata": {},
          "execution_count": 19
        }
      ]
    },
    {
      "cell_type": "code",
      "metadata": {
        "colab": {
          "base_uri": "https://localhost:8080/"
        },
        "id": "m3osBSvw57kD",
        "outputId": "86da2d19-89ca-4291-d9cd-ca176e3965b5"
      },
      "source": [
        "y[:, [1, 2]]\n"
      ],
      "execution_count": 20,
      "outputs": [
        {
          "output_type": "execute_result",
          "data": {
            "text/plain": [
              "array([[4, 3],\n",
              "       [2, 7]])"
            ]
          },
          "metadata": {},
          "execution_count": 20
        }
      ]
    },
    {
      "cell_type": "markdown",
      "metadata": {
        "id": "Tfn3JHsm5_aV"
      },
      "source": [
        "# **Matrix Operations**"
      ]
    },
    {
      "cell_type": "code",
      "metadata": {
        "colab": {
          "base_uri": "https://localhost:8080/"
        },
        "id": "KQyhVuj958yF",
        "outputId": "b7e4526d-9b3a-41fe-aa4c-9409dccaf01b"
      },
      "source": [
        "np.zeros((3, 5))"
      ],
      "execution_count": 21,
      "outputs": [
        {
          "output_type": "execute_result",
          "data": {
            "text/plain": [
              "array([[0., 0., 0., 0., 0.],\n",
              "       [0., 0., 0., 0., 0.],\n",
              "       [0., 0., 0., 0., 0.]])"
            ]
          },
          "metadata": {},
          "execution_count": 21
        }
      ]
    },
    {
      "cell_type": "code",
      "metadata": {
        "colab": {
          "base_uri": "https://localhost:8080/"
        },
        "id": "I1V8bjvB6Fl7",
        "outputId": "da875f86-c5ad-4696-ac70-7f5fd93426a6"
      },
      "source": [
        "np.ones((5, 3))"
      ],
      "execution_count": 22,
      "outputs": [
        {
          "output_type": "execute_result",
          "data": {
            "text/plain": [
              "array([[1., 1., 1.],\n",
              "       [1., 1., 1.],\n",
              "       [1., 1., 1.],\n",
              "       [1., 1., 1.],\n",
              "       [1., 1., 1.]])"
            ]
          },
          "metadata": {},
          "execution_count": 22
        }
      ]
    },
    {
      "cell_type": "code",
      "metadata": {
        "colab": {
          "base_uri": "https://localhost:8080/"
        },
        "id": "1qcn7EEc6MMU",
        "outputId": "56c64bbc-0a32-48c4-b640-d39faf9d5887"
      },
      "source": [
        "a = np.arange(1, 7)\n",
        "a\n",
        "\n"
      ],
      "execution_count": 25,
      "outputs": [
        {
          "output_type": "execute_result",
          "data": {
            "text/plain": [
              "array([1, 2, 3, 4, 5, 6])"
            ]
          },
          "metadata": {},
          "execution_count": 25
        }
      ]
    },
    {
      "cell_type": "code",
      "metadata": {
        "colab": {
          "base_uri": "https://localhost:8080/"
        },
        "id": "iM5gDJBE6Pyc",
        "outputId": "70ac39cc-4ab8-4f34-f10c-4962e5874981"
      },
      "source": [
        "a.shape"
      ],
      "execution_count": 26,
      "outputs": [
        {
          "output_type": "execute_result",
          "data": {
            "text/plain": [
              "(6,)"
            ]
          },
          "metadata": {},
          "execution_count": 26
        }
      ]
    },
    {
      "cell_type": "code",
      "metadata": {
        "colab": {
          "base_uri": "https://localhost:8080/"
        },
        "id": "ExZTqNDa6YZ8",
        "outputId": "cfa8c223-a96e-4397-f9ed-24b207ff5ee4"
      },
      "source": [
        "a[3] = 7\n",
        "a"
      ],
      "execution_count": 28,
      "outputs": [
        {
          "output_type": "execute_result",
          "data": {
            "text/plain": [
              "array([1, 2, 3, 7, 5, 6])"
            ]
          },
          "metadata": {},
          "execution_count": 28
        }
      ]
    },
    {
      "cell_type": "code",
      "metadata": {
        "colab": {
          "base_uri": "https://localhost:8080/"
        },
        "id": "GTd3HAH46ZyG",
        "outputId": "3b539a56-8684-439d-c697-01d3971fa938"
      },
      "source": [
        "a[:3] = 1 # Assign to multiple locations\n",
        "a"
      ],
      "execution_count": 29,
      "outputs": [
        {
          "output_type": "execute_result",
          "data": {
            "text/plain": [
              "array([1, 1, 1, 7, 5, 6])"
            ]
          },
          "metadata": {},
          "execution_count": 29
        }
      ]
    },
    {
      "cell_type": "code",
      "metadata": {
        "colab": {
          "base_uri": "https://localhost:8080/"
        },
        "id": "diOXBp_Q6hEm",
        "outputId": "03e0a8c3-3e2c-4a4d-e842-012c4db835e2"
      },
      "source": [
        "a[1:4] = [9, 8, 7]\n",
        "a"
      ],
      "execution_count": 30,
      "outputs": [
        {
          "output_type": "execute_result",
          "data": {
            "text/plain": [
              "array([1, 9, 8, 7, 5, 6])"
            ]
          },
          "metadata": {},
          "execution_count": 30
        }
      ]
    },
    {
      "cell_type": "code",
      "metadata": {
        "colab": {
          "base_uri": "https://localhost:8080/"
        },
        "id": "vJxVpxN56lGp",
        "outputId": "c9c0c21c-bbc5-4b5b-c4cd-cc4586f88789"
      },
      "source": [
        "# This is most useful\n",
        "b = np.zeros((2, 2))\n",
        "b[0, 0] = 1\n",
        "b[0, 1] = 2\n",
        "b[1, 1] = 4\n",
        "b"
      ],
      "execution_count": 31,
      "outputs": [
        {
          "output_type": "execute_result",
          "data": {
            "text/plain": [
              "array([[1., 2.],\n",
              "       [0., 4.]])"
            ]
          },
          "metadata": {},
          "execution_count": 31
        }
      ]
    },
    {
      "cell_type": "code",
      "metadata": {
        "colab": {
          "base_uri": "https://localhost:8080/"
        },
        "id": "Tp2fPBsw6xGA",
        "outputId": "8a44da47-7f55-4b1d-9676-5ae99c0e233b"
      },
      "source": [
        "b.shape"
      ],
      "execution_count": 32,
      "outputs": [
        {
          "output_type": "execute_result",
          "data": {
            "text/plain": [
              "(2, 2)"
            ]
          },
          "metadata": {},
          "execution_count": 32
        }
      ]
    },
    {
      "cell_type": "markdown",
      "metadata": {
        "id": "83a3N42h64eQ"
      },
      "source": [
        "# **Array Operation**"
      ]
    },
    {
      "cell_type": "code",
      "metadata": {
        "colab": {
          "base_uri": "https://localhost:8080/"
        },
        "id": "uiY9lVUD6yi4",
        "outputId": "35a38b53-d77f-4583-9e00-6ac02cc21b99"
      },
      "source": [
        "print(b)"
      ],
      "execution_count": 33,
      "outputs": [
        {
          "output_type": "stream",
          "name": "stdout",
          "text": [
            "[[1. 2.]\n",
            " [0. 4.]]\n"
          ]
        }
      ]
    },
    {
      "cell_type": "code",
      "metadata": {
        "colab": {
          "base_uri": "https://localhost:8080/"
        },
        "id": "R27Dylls6-rh",
        "outputId": "11aae735-55ea-4223-8811-fbc7ed3abe85"
      },
      "source": [
        "b + 2"
      ],
      "execution_count": 34,
      "outputs": [
        {
          "output_type": "execute_result",
          "data": {
            "text/plain": [
              "array([[3., 4.],\n",
              "       [2., 6.]])"
            ]
          },
          "metadata": {},
          "execution_count": 34
        }
      ]
    },
    {
      "cell_type": "code",
      "metadata": {
        "colab": {
          "base_uri": "https://localhost:8080/"
        },
        "id": "eTTLn6Oy6_RM",
        "outputId": "07749100-0d73-451e-dd26-119414fd15a5"
      },
      "source": [
        "2 * b"
      ],
      "execution_count": 35,
      "outputs": [
        {
          "output_type": "execute_result",
          "data": {
            "text/plain": [
              "array([[2., 4.],\n",
              "       [0., 8.]])"
            ]
          },
          "metadata": {},
          "execution_count": 35
        }
      ]
    },
    {
      "cell_type": "code",
      "metadata": {
        "colab": {
          "base_uri": "https://localhost:8080/"
        },
        "id": "vIOXxAoR7B1L",
        "outputId": "04ef7b74-d567-44d4-f3ce-a36543aaa28b"
      },
      "source": [
        "b ** 2"
      ],
      "execution_count": 36,
      "outputs": [
        {
          "output_type": "execute_result",
          "data": {
            "text/plain": [
              "array([[ 1.,  4.],\n",
              "       [ 0., 16.]])"
            ]
          },
          "metadata": {},
          "execution_count": 36
        }
      ]
    },
    {
      "cell_type": "code",
      "metadata": {
        "colab": {
          "base_uri": "https://localhost:8080/"
        },
        "id": "CfPDS4yA7Cuw",
        "outputId": "76deae89-7e53-4ad0-c168-799f647f4d5e"
      },
      "source": [
        "sum(b)"
      ],
      "execution_count": 37,
      "outputs": [
        {
          "output_type": "execute_result",
          "data": {
            "text/plain": [
              "array([1., 6.])"
            ]
          },
          "metadata": {},
          "execution_count": 37
        }
      ]
    },
    {
      "cell_type": "code",
      "metadata": {
        "colab": {
          "base_uri": "https://localhost:8080/"
        },
        "id": "ZyRZXEo97Eb8",
        "outputId": "e1586e05-763d-4fae-9385-6b2a9f908843"
      },
      "source": [
        "b.sum()"
      ],
      "execution_count": 38,
      "outputs": [
        {
          "output_type": "execute_result",
          "data": {
            "text/plain": [
              "7.0"
            ]
          },
          "metadata": {},
          "execution_count": 38
        }
      ]
    },
    {
      "cell_type": "code",
      "metadata": {
        "colab": {
          "base_uri": "https://localhost:8080/"
        },
        "id": "dCo3pvL97FXC",
        "outputId": "135210d8-21c3-495d-c1b3-a553c1a10563"
      },
      "source": [
        "b.sum(axis=0)"
      ],
      "execution_count": 39,
      "outputs": [
        {
          "output_type": "execute_result",
          "data": {
            "text/plain": [
              "array([1., 6.])"
            ]
          },
          "metadata": {},
          "execution_count": 39
        }
      ]
    },
    {
      "cell_type": "code",
      "metadata": {
        "colab": {
          "base_uri": "https://localhost:8080/"
        },
        "id": "D_dxLIaY7IsX",
        "outputId": "91ea8d0d-9e3b-4af3-c0bb-a272760b2ff4"
      },
      "source": [
        "b.sum(axis=1)"
      ],
      "execution_count": 40,
      "outputs": [
        {
          "output_type": "execute_result",
          "data": {
            "text/plain": [
              "array([3., 4.])"
            ]
          },
          "metadata": {},
          "execution_count": 40
        }
      ]
    },
    {
      "cell_type": "code",
      "metadata": {
        "id": "LhBh5YOG7KQJ"
      },
      "source": [
        "b = np.array([[1, 2], [3, 4]])\n",
        "d = np.array([[3, 4], [5, 6]])"
      ],
      "execution_count": 41,
      "outputs": []
    },
    {
      "cell_type": "code",
      "metadata": {
        "colab": {
          "base_uri": "https://localhost:8080/"
        },
        "id": "Ka0bt1wu7OWL",
        "outputId": "2a298517-b710-4d3f-eaf3-e2ec35277956"
      },
      "source": [
        "print(b)\n",
        "print(d)"
      ],
      "execution_count": 42,
      "outputs": [
        {
          "output_type": "stream",
          "name": "stdout",
          "text": [
            "[[1 2]\n",
            " [3 4]]\n",
            "[[3 4]\n",
            " [5 6]]\n"
          ]
        }
      ]
    },
    {
      "cell_type": "code",
      "metadata": {
        "colab": {
          "base_uri": "https://localhost:8080/"
        },
        "id": "k0imIGdj7QK5",
        "outputId": "38d40bcb-18c2-4df5-a5fb-bb7d4c376db0"
      },
      "source": [
        "b + d"
      ],
      "execution_count": 43,
      "outputs": [
        {
          "output_type": "execute_result",
          "data": {
            "text/plain": [
              "array([[ 4,  6],\n",
              "       [ 8, 10]])"
            ]
          },
          "metadata": {},
          "execution_count": 43
        }
      ]
    },
    {
      "cell_type": "code",
      "metadata": {
        "colab": {
          "base_uri": "https://localhost:8080/"
        },
        "id": "bq83vLPT7UfF",
        "outputId": "a9b81e74-0bb5-40d0-9239-1a5d140daf24"
      },
      "source": [
        "b * d     # what operation in this?"
      ],
      "execution_count": 44,
      "outputs": [
        {
          "output_type": "execute_result",
          "data": {
            "text/plain": [
              "array([[ 3,  8],\n",
              "       [15, 24]])"
            ]
          },
          "metadata": {},
          "execution_count": 44
        }
      ]
    },
    {
      "cell_type": "code",
      "metadata": {
        "colab": {
          "base_uri": "https://localhost:8080/"
        },
        "id": "eVTdfw9s7U6p",
        "outputId": "f103a518-6f67-49c4-fb68-6c60cee5c82f"
      },
      "source": [
        "b.dot(d)   # and this"
      ],
      "execution_count": 45,
      "outputs": [
        {
          "output_type": "execute_result",
          "data": {
            "text/plain": [
              "array([[13, 16],\n",
              "       [29, 36]])"
            ]
          },
          "metadata": {},
          "execution_count": 45
        }
      ]
    },
    {
      "cell_type": "code",
      "metadata": {
        "colab": {
          "base_uri": "https://localhost:8080/"
        },
        "id": "NVKIe38j7bNa",
        "outputId": "266bb457-3130-440a-95aa-e591c2195ae0"
      },
      "source": [
        "b ** d"
      ],
      "execution_count": 46,
      "outputs": [
        {
          "output_type": "execute_result",
          "data": {
            "text/plain": [
              "array([[   1,   16],\n",
              "       [ 243, 4096]])"
            ]
          },
          "metadata": {},
          "execution_count": 46
        }
      ]
    },
    {
      "cell_type": "code",
      "metadata": {
        "colab": {
          "base_uri": "https://localhost:8080/"
        },
        "id": "In9eN4_Y7b_z",
        "outputId": "865cd01f-137f-4bca-df4c-44996113aaf5"
      },
      "source": [
        "b.T      # for transpose use this"
      ],
      "execution_count": 47,
      "outputs": [
        {
          "output_type": "execute_result",
          "data": {
            "text/plain": [
              "array([[1, 3],\n",
              "       [2, 4]])"
            ]
          },
          "metadata": {},
          "execution_count": 47
        }
      ]
    },
    {
      "cell_type": "code",
      "metadata": {
        "colab": {
          "base_uri": "https://localhost:8080/"
        },
        "id": "vLhf9dRt7gvB",
        "outputId": "323814ad-dcd3-4343-e4e0-3e7b2a1756bc"
      },
      "source": [
        "# Numpy has \"broadcasting\" or \"mapping\" functions\n",
        "print(np.sqrt(36))\n",
        "\n",
        "# workd on both scalars and arrays\n",
        "x = [1, 4 , 9, 16]\n",
        "np.sqrt(x)"
      ],
      "execution_count": 49,
      "outputs": [
        {
          "output_type": "stream",
          "name": "stdout",
          "text": [
            "6.0\n"
          ]
        },
        {
          "output_type": "execute_result",
          "data": {
            "text/plain": [
              "array([1., 2., 3., 4.])"
            ]
          },
          "metadata": {},
          "execution_count": 49
        }
      ]
    },
    {
      "cell_type": "code",
      "metadata": {
        "id": "jp1N_XBd7keS"
      },
      "source": [
        "# checking conditions\n",
        "x = np.array([1, 2, 4, 5, 9, 3])\n",
        "y = np.array([0, 2, 3, 1, 2, 3])"
      ],
      "execution_count": 50,
      "outputs": []
    },
    {
      "cell_type": "code",
      "metadata": {
        "colab": {
          "base_uri": "https://localhost:8080/"
        },
        "id": "IuE3Xzfx784u",
        "outputId": "990fb525-39d8-4ff7-930b-0b125dbf7015"
      },
      "source": [
        "x > 3"
      ],
      "execution_count": 51,
      "outputs": [
        {
          "output_type": "execute_result",
          "data": {
            "text/plain": [
              "array([False, False,  True,  True,  True, False])"
            ]
          },
          "metadata": {},
          "execution_count": 51
        }
      ]
    },
    {
      "cell_type": "code",
      "metadata": {
        "colab": {
          "base_uri": "https://localhost:8080/"
        },
        "id": "lcYV9agT7-OD",
        "outputId": "338925fe-448e-4863-c6ea-6fe51c01c1aa"
      },
      "source": [
        "x > y"
      ],
      "execution_count": 52,
      "outputs": [
        {
          "output_type": "execute_result",
          "data": {
            "text/plain": [
              "array([ True, False,  True,  True,  True, False])"
            ]
          },
          "metadata": {},
          "execution_count": 52
        }
      ]
    },
    {
      "cell_type": "markdown",
      "metadata": {
        "id": "OdtLWCJz8IxI"
      },
      "source": [
        "# **Measures of Vector Lengths**\n",
        "\n",
        "The **norm** of a vector defines a measure of it's length. It depends on what measure you're interested in. Let's first see those measures very briefly.\n",
        "\n",
        "# **Euclidean Distance**\n",
        "\n",
        "Euclidean distance is what you would be familiar with from your early education. (Remember Pythogoras.)\n",
        "\n",
        "Distance between two points $(x_1, y_1)$ and $x_2, y_2)$ is given as $\\sqrt{(x_2 - x_1)^2 + (y_2 - y_1)^2}$.\n",
        "\n",
        "Let's view the notebook for details about this.\n",
        "\n",
        "\n",
        "# **Misc Operations with Numpy**"
      ]
    },
    {
      "cell_type": "code",
      "metadata": {
        "id": "NonYrG1B7_XJ"
      },
      "source": [
        "import math\n",
        "def basic_sigmoid(x):\n",
        "  \"\"\"\n",
        "  compute sigmoid of x.\n",
        "\n",
        "  Arguments:\n",
        "  x -- A scalar\n",
        "\n",
        "  Return:\n",
        "  s -- sigmoid(x)\n",
        "  \"\"\"\n",
        "\n",
        "\n",
        "  ### START CODE HERE ### (≈ 1 line of code)\n",
        "  s = 1./(1. + math.e ** (-x))\n",
        "  ### END CODE HERE ###\n",
        "    \n",
        "  return s\n"
      ],
      "execution_count": 53,
      "outputs": []
    },
    {
      "cell_type": "code",
      "metadata": {
        "colab": {
          "base_uri": "https://localhost:8080/"
        },
        "id": "PwXJBGci8xRk",
        "outputId": "2c987ae1-5843-4b83-a78e-ef8fe2ea538a"
      },
      "source": [
        "basic_sigmoid(-1)"
      ],
      "execution_count": 54,
      "outputs": [
        {
          "output_type": "execute_result",
          "data": {
            "text/plain": [
              "0.2689414213699951"
            ]
          },
          "metadata": {},
          "execution_count": 54
        }
      ]
    },
    {
      "cell_type": "code",
      "metadata": {
        "colab": {
          "base_uri": "https://localhost:8080/"
        },
        "id": "oPr5CodV8zeh",
        "outputId": "987f8444-5001-457c-bfb3-cc9101d6a417"
      },
      "source": [
        "basic_sigmoid(0)"
      ],
      "execution_count": 55,
      "outputs": [
        {
          "output_type": "execute_result",
          "data": {
            "text/plain": [
              "0.5"
            ]
          },
          "metadata": {},
          "execution_count": 55
        }
      ]
    },
    {
      "cell_type": "code",
      "metadata": {
        "colab": {
          "base_uri": "https://localhost:8080/",
          "height": 299
        },
        "id": "mo_qyIQM81cX",
        "outputId": "ec60d913-097c-407d-e9a8-327b4767de76"
      },
      "source": [
        "x = [-1, 0, 3]\n",
        "basic_sigmoid(x)   # Why"
      ],
      "execution_count": 57,
      "outputs": [
        {
          "output_type": "error",
          "ename": "TypeError",
          "evalue": "ignored",
          "traceback": [
            "\u001b[0;31m---------------------------------------------------------------------------\u001b[0m",
            "\u001b[0;31mTypeError\u001b[0m                                 Traceback (most recent call last)",
            "\u001b[0;32m<ipython-input-57-9cdbb4984ab9>\u001b[0m in \u001b[0;36m<module>\u001b[0;34m()\u001b[0m\n\u001b[1;32m      1\u001b[0m \u001b[0mx\u001b[0m \u001b[0;34m=\u001b[0m \u001b[0;34m[\u001b[0m\u001b[0;34m-\u001b[0m\u001b[0;36m1\u001b[0m\u001b[0;34m,\u001b[0m \u001b[0;36m0\u001b[0m\u001b[0;34m,\u001b[0m \u001b[0;36m3\u001b[0m\u001b[0;34m]\u001b[0m\u001b[0;34m\u001b[0m\u001b[0;34m\u001b[0m\u001b[0m\n\u001b[0;32m----> 2\u001b[0;31m \u001b[0mbasic_sigmoid\u001b[0m\u001b[0;34m(\u001b[0m\u001b[0mx\u001b[0m\u001b[0;34m)\u001b[0m   \u001b[0;31m# Why\u001b[0m\u001b[0;34m\u001b[0m\u001b[0;34m\u001b[0m\u001b[0m\n\u001b[0m",
            "\u001b[0;32m<ipython-input-53-4d55e407f88f>\u001b[0m in \u001b[0;36mbasic_sigmoid\u001b[0;34m(x)\u001b[0m\n\u001b[1;32m     13\u001b[0m \u001b[0;34m\u001b[0m\u001b[0m\n\u001b[1;32m     14\u001b[0m   \u001b[0;31m### START CODE HERE ### (≈ 1 line of code)\u001b[0m\u001b[0;34m\u001b[0m\u001b[0;34m\u001b[0m\u001b[0;34m\u001b[0m\u001b[0m\n\u001b[0;32m---> 15\u001b[0;31m   \u001b[0ms\u001b[0m \u001b[0;34m=\u001b[0m \u001b[0;36m1.\u001b[0m\u001b[0;34m/\u001b[0m\u001b[0;34m(\u001b[0m\u001b[0;36m1.\u001b[0m \u001b[0;34m+\u001b[0m \u001b[0mmath\u001b[0m\u001b[0;34m.\u001b[0m\u001b[0me\u001b[0m \u001b[0;34m**\u001b[0m \u001b[0;34m(\u001b[0m\u001b[0;34m-\u001b[0m\u001b[0mx\u001b[0m\u001b[0;34m)\u001b[0m\u001b[0;34m)\u001b[0m\u001b[0;34m\u001b[0m\u001b[0;34m\u001b[0m\u001b[0m\n\u001b[0m\u001b[1;32m     16\u001b[0m   \u001b[0;31m### END CODE HERE ###\u001b[0m\u001b[0;34m\u001b[0m\u001b[0;34m\u001b[0m\u001b[0;34m\u001b[0m\u001b[0m\n\u001b[1;32m     17\u001b[0m \u001b[0;34m\u001b[0m\u001b[0m\n",
            "\u001b[0;31mTypeError\u001b[0m: bad operand type for unary -: 'list'"
          ]
        }
      ]
    },
    {
      "cell_type": "code",
      "metadata": {
        "colab": {
          "base_uri": "https://localhost:8080/"
        },
        "id": "3JgsXGR587Jk",
        "outputId": "97fdacc7-dddf-4812-8046-5e6fa8b6e0c5"
      },
      "source": [
        "import numpy as np\n",
        "\n",
        "x = [-1, 0, 3]\n",
        "x = np.array(x)\n",
        "basic_sigmoid(x)"
      ],
      "execution_count": 60,
      "outputs": [
        {
          "output_type": "execute_result",
          "data": {
            "text/plain": [
              "array([0.26894142, 0.5       , 0.95257413])"
            ]
          },
          "metadata": {},
          "execution_count": 60
        }
      ]
    },
    {
      "cell_type": "markdown",
      "metadata": {
        "id": "GXHJMor79Q04"
      },
      "source": [
        "# **Broadcasting**"
      ]
    },
    {
      "cell_type": "code",
      "metadata": {
        "colab": {
          "base_uri": "https://localhost:8080/"
        },
        "id": "rWddKv0J9G3O",
        "outputId": "6391b9e4-b596-4ab2-9a75-c78519a2df48"
      },
      "source": [
        "# waht is broadcasting?\n",
        "x = np.array([1, 2, 3])\n",
        "x * 3 # this makes sense"
      ],
      "execution_count": 61,
      "outputs": [
        {
          "output_type": "execute_result",
          "data": {
            "text/plain": [
              "array([3, 6, 9])"
            ]
          },
          "metadata": {},
          "execution_count": 61
        }
      ]
    },
    {
      "cell_type": "code",
      "metadata": {
        "colab": {
          "base_uri": "https://localhost:8080/"
        },
        "id": "gqZAbNbh9axG",
        "outputId": "237149d0-0f70-4656-93b0-2b4813fe8af0"
      },
      "source": [
        "x + 3 # Does this ?\n"
      ],
      "execution_count": 62,
      "outputs": [
        {
          "output_type": "execute_result",
          "data": {
            "text/plain": [
              "array([4, 5, 6])"
            ]
          },
          "metadata": {},
          "execution_count": 62
        }
      ]
    },
    {
      "cell_type": "markdown",
      "metadata": {
        "id": "l2Ejy5499gwD"
      },
      "source": [
        "Generl rule: Two dimensions are compatible when\n",
        "\n",
        "-> they are equal, or\n",
        "\n",
        "-> one of them is 1"
      ]
    },
    {
      "cell_type": "code",
      "metadata": {
        "colab": {
          "base_uri": "https://localhost:8080/"
        },
        "id": "dkKuCujP9dVV",
        "outputId": "9d28d34c-6e9c-482e-b650-5d3ad4f2f82b"
      },
      "source": [
        "x = np.arange(4)\n",
        "xx = x.reshape(4, 1)\n",
        "y = np.ones(5)\n",
        "z = np.ones((3, 4))\n",
        "\n",
        "print(\"x = \" , x)\n",
        "print(\"xx = \", xx)\n",
        "print(\"y = \", y)\n",
        "\n",
        "print(\"shapes: \")\n",
        "print(x.shape)\n",
        "print(xx.shape)\n",
        "print(y.shape)"
      ],
      "execution_count": 63,
      "outputs": [
        {
          "output_type": "stream",
          "name": "stdout",
          "text": [
            "x =  [0 1 2 3]\n",
            "xx =  [[0]\n",
            " [1]\n",
            " [2]\n",
            " [3]]\n",
            "y =  [1. 1. 1. 1. 1.]\n",
            "shapes: \n",
            "(4,)\n",
            "(4, 1)\n",
            "(5,)\n"
          ]
        }
      ]
    },
    {
      "cell_type": "code",
      "metadata": {
        "colab": {
          "base_uri": "https://localhost:8080/",
          "height": 163
        },
        "id": "h1cCvwEN-KzB",
        "outputId": "899aec8e-a132-423b-a62e-f2fb91a947f3"
      },
      "source": [
        "x + y # does not work"
      ],
      "execution_count": 64,
      "outputs": [
        {
          "output_type": "error",
          "ename": "ValueError",
          "evalue": "ignored",
          "traceback": [
            "\u001b[0;31m---------------------------------------------------------------------------\u001b[0m",
            "\u001b[0;31mValueError\u001b[0m                                Traceback (most recent call last)",
            "\u001b[0;32m<ipython-input-64-c3acc19feec5>\u001b[0m in \u001b[0;36m<module>\u001b[0;34m()\u001b[0m\n\u001b[0;32m----> 1\u001b[0;31m \u001b[0mx\u001b[0m \u001b[0;34m+\u001b[0m \u001b[0my\u001b[0m \u001b[0;31m# does not work\u001b[0m\u001b[0;34m\u001b[0m\u001b[0;34m\u001b[0m\u001b[0m\n\u001b[0m",
            "\u001b[0;31mValueError\u001b[0m: operands could not be broadcast together with shapes (4,) (5,) "
          ]
        }
      ]
    },
    {
      "cell_type": "code",
      "metadata": {
        "colab": {
          "base_uri": "https://localhost:8080/"
        },
        "id": "kpKUXjqr-tKi",
        "outputId": "9aaa4c8c-137a-4a84-e29f-febc322507cf"
      },
      "source": [
        "xx.shape"
      ],
      "execution_count": 65,
      "outputs": [
        {
          "output_type": "execute_result",
          "data": {
            "text/plain": [
              "(4, 1)"
            ]
          },
          "metadata": {},
          "execution_count": 65
        }
      ]
    },
    {
      "cell_type": "code",
      "metadata": {
        "colab": {
          "base_uri": "https://localhost:8080/"
        },
        "id": "5YZlyWbw-xD9",
        "outputId": "e9c931d4-b828-4fb3-a4f0-8b5cfe50159c"
      },
      "source": [
        "xx + y         # y is broadcast over the rows of xx"
      ],
      "execution_count": 67,
      "outputs": [
        {
          "output_type": "execute_result",
          "data": {
            "text/plain": [
              "array([[1., 1., 1., 1., 1.],\n",
              "       [2., 2., 2., 2., 2.],\n",
              "       [3., 3., 3., 3., 3.],\n",
              "       [4., 4., 4., 4., 4.]])"
            ]
          },
          "metadata": {},
          "execution_count": 67
        }
      ]
    },
    {
      "cell_type": "code",
      "metadata": {
        "colab": {
          "base_uri": "https://localhost:8080/"
        },
        "id": "Q9shvO1Q-1J8",
        "outputId": "1f6a0d8b-c7d4-4c88-95ca-e33c87a48471"
      },
      "source": [
        "np.array([1]) + y      # element is broadcast over y"
      ],
      "execution_count": 68,
      "outputs": [
        {
          "output_type": "execute_result",
          "data": {
            "text/plain": [
              "array([2., 2., 2., 2., 2.])"
            ]
          },
          "metadata": {},
          "execution_count": 68
        }
      ]
    },
    {
      "cell_type": "code",
      "metadata": {
        "colab": {
          "base_uri": "https://localhost:8080/"
        },
        "id": "GVa9Jt6Q_c0N",
        "outputId": "15b906df-0c05-4b43-bde2-d5b768a91ff2"
      },
      "source": [
        "print(z)\n",
        "z.shape"
      ],
      "execution_count": 69,
      "outputs": [
        {
          "output_type": "stream",
          "name": "stdout",
          "text": [
            "[[1. 1. 1. 1.]\n",
            " [1. 1. 1. 1.]\n",
            " [1. 1. 1. 1.]]\n"
          ]
        },
        {
          "output_type": "execute_result",
          "data": {
            "text/plain": [
              "(3, 4)"
            ]
          },
          "metadata": {},
          "execution_count": 69
        }
      ]
    },
    {
      "cell_type": "code",
      "metadata": {
        "id": "rv68RYeT_pE7"
      },
      "source": [
        "a = np.array([[ 0.0 , 0.0,  0.0  ],\n",
        "              [ 10.0, 10.0, 10.0 ],\n",
        "              [ 20.0, 20.0, 20.0 ],\n",
        "              [ 30.0, 30.0, 30.0 ]])\n",
        "\n",
        "b = np.array( [ 1.0,  2.0,  3.0  ] )"
      ],
      "execution_count": 70,
      "outputs": []
    },
    {
      "cell_type": "code",
      "metadata": {
        "colab": {
          "base_uri": "https://localhost:8080/"
        },
        "id": "Lq3a0A5-_w94",
        "outputId": "5be00963-78e8-4e67-8525-f9ba4fbb1700"
      },
      "source": [
        "a + b"
      ],
      "execution_count": 71,
      "outputs": [
        {
          "output_type": "execute_result",
          "data": {
            "text/plain": [
              "array([[ 1.,  2.,  3.],\n",
              "       [11., 12., 13.],\n",
              "       [21., 22., 23.],\n",
              "       [31., 32., 33.]])"
            ]
          },
          "metadata": {},
          "execution_count": 71
        }
      ]
    },
    {
      "cell_type": "code",
      "metadata": {
        "id": "Y_o6qMho_xe9"
      },
      "source": [
        "a = np.array([[ 0.0 , 0.0,  0.0  , 0.0  ],\n",
        "              [ 10.0, 10.0, 10.0 , 10.0 ],\n",
        "              [ 20.0, 20.0, 20.0 , 20.0 ],\n",
        "              [ 30.0, 30.0, 30.0 , 30.0 ]])\n",
        "\n",
        "b = np.array( [ 1.0,  2.0] )"
      ],
      "execution_count": 72,
      "outputs": []
    },
    {
      "cell_type": "code",
      "metadata": {
        "colab": {
          "base_uri": "https://localhost:8080/",
          "height": 163
        },
        "id": "-L5JpDH6_2xe",
        "outputId": "cc748680-efc9-49a3-f449-3fcb2139276b"
      },
      "source": [
        "a + b"
      ],
      "execution_count": 73,
      "outputs": [
        {
          "output_type": "error",
          "ename": "ValueError",
          "evalue": "ignored",
          "traceback": [
            "\u001b[0;31m---------------------------------------------------------------------------\u001b[0m",
            "\u001b[0;31mValueError\u001b[0m                                Traceback (most recent call last)",
            "\u001b[0;32m<ipython-input-73-bd58363a63fc>\u001b[0m in \u001b[0;36m<module>\u001b[0;34m()\u001b[0m\n\u001b[0;32m----> 1\u001b[0;31m \u001b[0ma\u001b[0m \u001b[0;34m+\u001b[0m \u001b[0mb\u001b[0m\u001b[0;34m\u001b[0m\u001b[0;34m\u001b[0m\u001b[0m\n\u001b[0m",
            "\u001b[0;31mValueError\u001b[0m: operands could not be broadcast together with shapes (4,4) (2,) "
          ]
        }
      ]
    },
    {
      "cell_type": "code",
      "metadata": {
        "id": "Oy3bbOHD_3-Z"
      },
      "source": [
        "a = np.array( [ 0.0, 10.0, 20.0, 30.0 ] )\n",
        "b = np.array( [ 1.0, 2.0,  3.0 ]        )"
      ],
      "execution_count": 74,
      "outputs": []
    },
    {
      "cell_type": "code",
      "metadata": {
        "colab": {
          "base_uri": "https://localhost:8080/",
          "height": 163
        },
        "id": "r0D58QCO_8th",
        "outputId": "4476c2fe-a3c8-45ea-9f5d-ab9392c28017"
      },
      "source": [
        "a + b # can't broadcast"
      ],
      "execution_count": 75,
      "outputs": [
        {
          "output_type": "error",
          "ename": "ValueError",
          "evalue": "ignored",
          "traceback": [
            "\u001b[0;31m---------------------------------------------------------------------------\u001b[0m",
            "\u001b[0;31mValueError\u001b[0m                                Traceback (most recent call last)",
            "\u001b[0;32m<ipython-input-75-5949587f0e3c>\u001b[0m in \u001b[0;36m<module>\u001b[0;34m()\u001b[0m\n\u001b[0;32m----> 1\u001b[0;31m \u001b[0ma\u001b[0m \u001b[0;34m+\u001b[0m \u001b[0mb\u001b[0m \u001b[0;31m# can't broadcast\u001b[0m\u001b[0;34m\u001b[0m\u001b[0;34m\u001b[0m\u001b[0m\n\u001b[0m",
            "\u001b[0;31mValueError\u001b[0m: operands could not be broadcast together with shapes (4,) (3,) "
          ]
        }
      ]
    },
    {
      "cell_type": "code",
      "metadata": {
        "colab": {
          "base_uri": "https://localhost:8080/"
        },
        "id": "ae5c5qPlAAFl",
        "outputId": "f6e525a1-ab92-4c05-f25e-c3981a50f393"
      },
      "source": [
        "print(a.shape, b.shape)\n"
      ],
      "execution_count": 76,
      "outputs": [
        {
          "output_type": "stream",
          "name": "stdout",
          "text": [
            "(4,) (3,)\n"
          ]
        }
      ]
    },
    {
      "cell_type": "code",
      "metadata": {
        "id": "Kx_AaD5NAH7A"
      },
      "source": [
        "a1 = a.reshape(4, 1)\n"
      ],
      "execution_count": 77,
      "outputs": []
    },
    {
      "cell_type": "code",
      "metadata": {
        "colab": {
          "base_uri": "https://localhost:8080/"
        },
        "id": "a3lYj0dGALgt",
        "outputId": "ce34ca5d-f7c2-45bb-c777-36bd1a3611f0"
      },
      "source": [
        "a1 + b"
      ],
      "execution_count": 78,
      "outputs": [
        {
          "output_type": "execute_result",
          "data": {
            "text/plain": [
              "array([[ 1.,  2.,  3.],\n",
              "       [11., 12., 13.],\n",
              "       [21., 22., 23.],\n",
              "       [31., 32., 33.]])"
            ]
          },
          "metadata": {},
          "execution_count": 78
        }
      ]
    },
    {
      "cell_type": "code",
      "metadata": {
        "colab": {
          "base_uri": "https://localhost:8080/"
        },
        "id": "sbm-a1hrAMgc",
        "outputId": "2cfd109a-0a50-48ca-9304-953453af304e"
      },
      "source": [
        "print(a1.shape, b.shape)\n"
      ],
      "execution_count": 79,
      "outputs": [
        {
          "output_type": "stream",
          "name": "stdout",
          "text": [
            "(4, 1) (3,)\n"
          ]
        }
      ]
    },
    {
      "cell_type": "code",
      "metadata": {
        "colab": {
          "base_uri": "https://localhost:8080/"
        },
        "id": "IlxLUbMAAUyD",
        "outputId": "7d4f8cf7-67ca-4506-e0c9-b21db2fc10dc"
      },
      "source": [
        "print(a1)\n"
      ],
      "execution_count": 80,
      "outputs": [
        {
          "output_type": "stream",
          "name": "stdout",
          "text": [
            "[[ 0.]\n",
            " [10.]\n",
            " [20.]\n",
            " [30.]]\n"
          ]
        }
      ]
    },
    {
      "cell_type": "markdown",
      "metadata": {
        "id": "5WoIsiVyAY_C"
      },
      "source": [
        "# **Normalizing Rows and Columns**\n",
        "\n",
        "Often, we wish to normalize value of a row to fall within a specific range."
      ]
    },
    {
      "cell_type": "code",
      "metadata": {
        "id": "3KHkOnvmAWVc"
      },
      "source": [
        "x = np.array([ [ 0, 3, 4 ],\n",
        "               [ 1, 6, 4 ] ])"
      ],
      "execution_count": 81,
      "outputs": []
    },
    {
      "cell_type": "code",
      "metadata": {
        "colab": {
          "base_uri": "https://localhost:8080/"
        },
        "id": "9t9tYRtqA33j",
        "outputId": "0670e382-0155-4072-b0bf-75961331fb0e"
      },
      "source": [
        "x_norm = np.amax(x, axis=1)   # get row-wise max \n",
        "print(x_norm)"
      ],
      "execution_count": 82,
      "outputs": [
        {
          "output_type": "stream",
          "name": "stdout",
          "text": [
            "[4 6]\n"
          ]
        }
      ]
    },
    {
      "cell_type": "code",
      "metadata": {
        "colab": {
          "base_uri": "https://localhost:8080/",
          "height": 163
        },
        "id": "kVjCbIF-A85q",
        "outputId": "a9171717-73bb-4a65-96ee-1b001f12ec94"
      },
      "source": [
        "x / x_norm     # this does not work. Why?"
      ],
      "execution_count": 83,
      "outputs": [
        {
          "output_type": "error",
          "ename": "ValueError",
          "evalue": "ignored",
          "traceback": [
            "\u001b[0;31m---------------------------------------------------------------------------\u001b[0m",
            "\u001b[0;31mValueError\u001b[0m                                Traceback (most recent call last)",
            "\u001b[0;32m<ipython-input-83-bb697822da9e>\u001b[0m in \u001b[0;36m<module>\u001b[0;34m()\u001b[0m\n\u001b[0;32m----> 1\u001b[0;31m \u001b[0mx\u001b[0m \u001b[0;34m/\u001b[0m \u001b[0mx_norm\u001b[0m     \u001b[0;31m# this does not work. Why?\u001b[0m\u001b[0;34m\u001b[0m\u001b[0;34m\u001b[0m\u001b[0m\n\u001b[0m",
            "\u001b[0;31mValueError\u001b[0m: operands could not be broadcast together with shapes (2,3) (2,) "
          ]
        }
      ]
    },
    {
      "cell_type": "code",
      "metadata": {
        "colab": {
          "base_uri": "https://localhost:8080/"
        },
        "id": "9nYBv1S5BHyd",
        "outputId": "afacb39d-e0e3-4c2c-c6d1-dd14b346acec"
      },
      "source": [
        "print(x.shape)\n",
        "print(x_norm.shape)"
      ],
      "execution_count": 84,
      "outputs": [
        {
          "output_type": "stream",
          "name": "stdout",
          "text": [
            "(2, 3)\n",
            "(2,)\n"
          ]
        }
      ]
    },
    {
      "cell_type": "code",
      "metadata": {
        "id": "W1LgIvxYBNLB"
      },
      "source": [
        "x_norm = x_norm.reshape(2, 1)\n"
      ],
      "execution_count": 85,
      "outputs": []
    },
    {
      "cell_type": "code",
      "metadata": {
        "colab": {
          "base_uri": "https://localhost:8080/"
        },
        "id": "Q5VLBmOyBV11",
        "outputId": "1fac8b70-d429-454d-d50a-30b45b9a702f"
      },
      "source": [
        "x / x_norm"
      ],
      "execution_count": 86,
      "outputs": [
        {
          "output_type": "execute_result",
          "data": {
            "text/plain": [
              "array([[0.        , 0.75      , 1.        ],\n",
              "       [0.16666667, 1.        , 0.66666667]])"
            ]
          },
          "metadata": {},
          "execution_count": 86
        }
      ]
    },
    {
      "cell_type": "code",
      "metadata": {
        "colab": {
          "base_uri": "https://localhost:8080/"
        },
        "id": "MSTZb0zEBXNP",
        "outputId": "53b487f6-541c-45d7-ad16-693fe5d360af"
      },
      "source": [
        "# We can also use another normalization method \n",
        "x = np.array([ [ 0, 3, 4 ],\n",
        "               [ 1, 6, 4 ] ])\n",
        "\n",
        "# no need to reshape again \n",
        "x_norm = np.linalg.norm(x, ord = 2, axis = 1, keepdims = True) \n",
        "x / x_norm"
      ],
      "execution_count": 87,
      "outputs": [
        {
          "output_type": "execute_result",
          "data": {
            "text/plain": [
              "array([[0.        , 0.6       , 0.8       ],\n",
              "       [0.13736056, 0.82416338, 0.54944226]])"
            ]
          },
          "metadata": {},
          "execution_count": 87
        }
      ]
    },
    {
      "cell_type": "markdown",
      "metadata": {
        "id": "Inx-0Xy9BgAF"
      },
      "source": [
        "# **Reshaping Revisited**\n",
        "\n",
        "Pay attention to the tensor below!"
      ]
    },
    {
      "cell_type": "code",
      "metadata": {
        "id": "cvpgUXAjBbtR"
      },
      "source": [
        "i = np.array([\n",
        "    [  [ 0.1,  0.1,  0.9 ], [ 0.2,  0.1,  0.9 ], [ 0.3,  0.1,  0.9 ]  ],\n",
        "    \n",
        "    [  [ 0.1,  0.2,  0.9 ], [ 0.2,  0.2,  0.9 ], [ 0.3,  0.2,  0.9 ]  ],\n",
        "\n",
        "    [  [ 0.1,  0.3,  0.9 ], [ 0.2,  0.3,  0.9 ], [ 0.3,  0.3,  0.9 ]  ], \n",
        "    \n",
        "    [  [ 0.1,  0.4,  0.9 ], [ 0.2,  0.4,  0.9 ], [ 0.3,  0.4,  0.9 ]  ]\n",
        "\n",
        "])"
      ],
      "execution_count": 88,
      "outputs": []
    },
    {
      "cell_type": "code",
      "metadata": {
        "colab": {
          "base_uri": "https://localhost:8080/"
        },
        "id": "GSdJMNveBl3I",
        "outputId": "60c959f2-5323-4b5c-f7e9-ab4130f87e42"
      },
      "source": [
        "i.shape"
      ],
      "execution_count": 89,
      "outputs": [
        {
          "output_type": "execute_result",
          "data": {
            "text/plain": [
              "(4, 3, 3)"
            ]
          },
          "metadata": {},
          "execution_count": 89
        }
      ]
    },
    {
      "cell_type": "code",
      "metadata": {
        "id": "NJkqh4PwBnV1"
      },
      "source": [
        "%matplotlib inline\n",
        "import matplotlib.pyplot as plt\n",
        "import numpy as np\n"
      ],
      "execution_count": 90,
      "outputs": []
    },
    {
      "cell_type": "code",
      "metadata": {
        "colab": {
          "base_uri": "https://localhost:8080/",
          "height": 286
        },
        "id": "JJeMYJViCxWg",
        "outputId": "1545c93b-9191-4148-efbc-1c97aaaaa585"
      },
      "source": [
        "plt.imshow(i, interpolation='nearest')\n"
      ],
      "execution_count": 91,
      "outputs": [
        {
          "output_type": "execute_result",
          "data": {
            "text/plain": [
              "<matplotlib.image.AxesImage at 0x7f7f17a937d0>"
            ]
          },
          "metadata": {},
          "execution_count": 91
        },
        {
          "output_type": "display_data",
          "data": {
            "image/png": "[encoded data removed]",
            "text/plain": [
              "<Figure size 432x288 with 1 Axes>"
            ]
          },
          "metadata": {
            "needs_background": "light"
          }
        }
      ]
    },
    {
      "cell_type": "code",
      "metadata": {
        "colab": {
          "base_uri": "https://localhost:8080/"
        },
        "id": "LP8XD1oLCy4T",
        "outputId": "d2a0d66f-a9ab-4fd9-fa9a-83c53abcb536"
      },
      "source": [
        "i.reshape(36)    # we get a column \"vector\"\n"
      ],
      "execution_count": 92,
      "outputs": [
        {
          "output_type": "execute_result",
          "data": {
            "text/plain": [
              "array([0.1, 0.1, 0.9, 0.2, 0.1, 0.9, 0.3, 0.1, 0.9, 0.1, 0.2, 0.9, 0.2,\n",
              "       0.2, 0.9, 0.3, 0.2, 0.9, 0.1, 0.3, 0.9, 0.2, 0.3, 0.9, 0.3, 0.3,\n",
              "       0.9, 0.1, 0.4, 0.9, 0.2, 0.4, 0.9, 0.3, 0.4, 0.9])"
            ]
          },
          "metadata": {},
          "execution_count": 92
        }
      ]
    },
    {
      "cell_type": "code",
      "metadata": {
        "colab": {
          "base_uri": "https://localhost:8080/"
        },
        "id": "FSvAYSkUC07k",
        "outputId": "f9565210-505b-4660-f645-b06cf37a47ac"
      },
      "source": [
        "print(i.shape)\n",
        "i_sh = i.shape\n",
        "i.reshape(i_sh[0] * i_sh[1] * i_sh[2], 1)  # Also known as \"flattening\""
      ],
      "execution_count": 93,
      "outputs": [
        {
          "output_type": "stream",
          "name": "stdout",
          "text": [
            "(4, 3, 3)\n"
          ]
        },
        {
          "output_type": "execute_result",
          "data": {
            "text/plain": [
              "array([[0.1],\n",
              "       [0.1],\n",
              "       [0.9],\n",
              "       [0.2],\n",
              "       [0.1],\n",
              "       [0.9],\n",
              "       [0.3],\n",
              "       [0.1],\n",
              "       [0.9],\n",
              "       [0.1],\n",
              "       [0.2],\n",
              "       [0.9],\n",
              "       [0.2],\n",
              "       [0.2],\n",
              "       [0.9],\n",
              "       [0.3],\n",
              "       [0.2],\n",
              "       [0.9],\n",
              "       [0.1],\n",
              "       [0.3],\n",
              "       [0.9],\n",
              "       [0.2],\n",
              "       [0.3],\n",
              "       [0.9],\n",
              "       [0.3],\n",
              "       [0.3],\n",
              "       [0.9],\n",
              "       [0.1],\n",
              "       [0.4],\n",
              "       [0.9],\n",
              "       [0.2],\n",
              "       [0.4],\n",
              "       [0.9],\n",
              "       [0.3],\n",
              "       [0.4],\n",
              "       [0.9]])"
            ]
          },
          "metadata": {},
          "execution_count": 93
        }
      ]
    },
    {
      "cell_type": "markdown",
      "metadata": {
        "id": "RE5b0RJCC5S6"
      },
      "source": [
        "# **Vectorization**"
      ]
    },
    {
      "cell_type": "code",
      "metadata": {
        "id": "6_iaFEwVC3Ya"
      },
      "source": [
        "dim = 10    # try increasing this after running experiment"
      ],
      "execution_count": 94,
      "outputs": []
    },
    {
      "cell_type": "code",
      "metadata": {
        "id": "OBRTnmvNC9NG"
      },
      "source": [
        "A = np.random.rand(dim, dim)\n",
        "B = np.random.rand(dim, dim)"
      ],
      "execution_count": 95,
      "outputs": []
    },
    {
      "cell_type": "code",
      "metadata": {
        "colab": {
          "base_uri": "https://localhost:8080/"
        },
        "id": "XKycsHCsDBed",
        "outputId": "e68ac08a-4eed-4ad6-d543-8ce053aea203"
      },
      "source": [
        "A[0].size, A[1].size\n"
      ],
      "execution_count": 96,
      "outputs": [
        {
          "output_type": "execute_result",
          "data": {
            "text/plain": [
              "(10, 10)"
            ]
          },
          "metadata": {},
          "execution_count": 96
        }
      ]
    },
    {
      "cell_type": "code",
      "metadata": {
        "id": "P_mUK-d3DEge"
      },
      "source": [
        "def add_arrays(A, B): \n",
        "    C = np.zeros((A[0].size, A[1].size))\n",
        "    \n",
        "    for i in range(A[0].size): \n",
        "        for j in range(A[1].size): \n",
        "            C[i, j] = A[i, j] + B[i, j]\n",
        "    return C"
      ],
      "execution_count": 97,
      "outputs": []
    },
    {
      "cell_type": "code",
      "metadata": {
        "colab": {
          "base_uri": "https://localhost:8080/"
        },
        "id": "pCYKq-tpDJmW",
        "outputId": "e540f189-ba2d-4506-aa98-da1396bcd8a1"
      },
      "source": [
        "%time C = add_arrays(A, B)\n"
      ],
      "execution_count": 98,
      "outputs": [
        {
          "output_type": "stream",
          "name": "stdout",
          "text": [
            "CPU times: user 110 µs, sys: 0 ns, total: 110 µs\n",
            "Wall time: 114 µs\n"
          ]
        }
      ]
    },
    {
      "cell_type": "code",
      "metadata": {
        "colab": {
          "base_uri": "https://localhost:8080/"
        },
        "id": "_4tAeBlyD9ws",
        "outputId": "1995e309-aa7d-445d-e452-129b729294da"
      },
      "source": [
        "%time C = A + B\n"
      ],
      "execution_count": 99,
      "outputs": [
        {
          "output_type": "stream",
          "name": "stdout",
          "text": [
            "CPU times: user 43 µs, sys: 0 ns, total: 43 µs\n",
            "Wall time: 79.9 µs\n"
          ]
        }
      ]
    },
    {
      "cell_type": "code",
      "metadata": {
        "id": "xWLaaf9LD_5x"
      },
      "source": [
        "import time\n",
        "\n",
        "# Non-vectorize time\n",
        "start = time.time()\n",
        "\n",
        "C = add_arrays(A, B)\n",
        "\n",
        "end = time.time()\n",
        "non_vec_time = end - start \n",
        "\n",
        "\n",
        "## Vectorized time \n",
        "start = time.time() \n",
        "\n",
        "C = A + B \n",
        "\n",
        "end = time.time() \n",
        "vec_time = end - start\n"
      ],
      "execution_count": 101,
      "outputs": []
    },
    {
      "cell_type": "code",
      "metadata": {
        "colab": {
          "base_uri": "https://localhost:8080/"
        },
        "id": "oalrPGVXF2Zl",
        "outputId": "a0450c41-27bd-44b8-8af1-14063fa07de2"
      },
      "source": [
        "vec_time / non_vec_time * 100\n"
      ],
      "execution_count": 102,
      "outputs": [
        {
          "output_type": "execute_result",
          "data": {
            "text/plain": [
              "33.33333333333333"
            ]
          },
          "metadata": {},
          "execution_count": 102
        }
      ]
    },
    {
      "cell_type": "markdown",
      "metadata": {
        "id": "M4q8pLEhF96L"
      },
      "source": [
        "Another simpler example to drive the point home.\n",
        "\n"
      ]
    },
    {
      "cell_type": "code",
      "metadata": {
        "colab": {
          "base_uri": "https://localhost:8080/"
        },
        "id": "Q3cEh6F6F8bf",
        "outputId": "7b2a04af-d3fb-4300-aeb5-48c9e7a07728"
      },
      "source": [
        "%%time\n",
        "total = 0\n",
        "for i in np.arange(100_00_000):\n",
        "  total += i\n",
        "print(total)"
      ],
      "execution_count": 105,
      "outputs": [
        {
          "output_type": "stream",
          "name": "stdout",
          "text": [
            "49999995000000\n",
            "CPU times: user 3.15 s, sys: 2.13 ms, total: 3.15 s\n",
            "Wall time: 3.16 s\n"
          ]
        }
      ]
    },
    {
      "cell_type": "code",
      "metadata": {
        "colab": {
          "base_uri": "https://localhost:8080/"
        },
        "id": "ySeSPluVGVbS",
        "outputId": "c578f94c-5ba3-4ef1-8600-b8c709b294d1"
      },
      "source": [
        "%time sum(np.arange(100_000_000))\n"
      ],
      "execution_count": 106,
      "outputs": [
        {
          "output_type": "stream",
          "name": "stdout",
          "text": [
            "CPU times: user 16.8 s, sys: 217 ms, total: 17 s\n",
            "Wall time: 16.9 s\n"
          ]
        },
        {
          "output_type": "execute_result",
          "data": {
            "text/plain": [
              "4999999950000000"
            ]
          },
          "metadata": {},
          "execution_count": 106
        }
      ]
    },
    {
      "cell_type": "code",
      "metadata": {
        "id": "7xnEjhsJGZ38"
      },
      "source": [
        ""
      ],
      "execution_count": null,
      "outputs": []
    }
  ]
}