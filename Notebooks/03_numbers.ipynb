{
  "nbformat": 4,
  "nbformat_minor": 0,
  "metadata": {
    "colab": {
      "name": "03_numbers.ipynb",
      "provenance": []
    },
    "kernelspec": {
      "name": "python3",
      "display_name": "Python 3"
    },
    "language_info": {
      "name": "python"
    }
  },
  "cells": [
    {
      "cell_type": "markdown",
      "metadata": {
        "id": "qx_CIAWGMaSA"
      },
      "source": [
        "# **Numbers and Types**\n",
        "\n",
        "---\n",
        "\n",
        "\n",
        "\n",
        "\n",
        "\n"
      ]
    },
    {
      "cell_type": "code",
      "metadata": {
        "id": "Xk24-9sCN6ql",
        "colab": {
          "base_uri": "https://localhost:8080/"
        },
        "outputId": "20ad9c34-9ccd-428a-ee55-978ab8a24633"
      },
      "source": [
        "import numpy as np\n",
        "vector_row = np.array([[1, -5, 3, 2, 4]])\n",
        "vector_column = np.array(([1],\n",
        "                          [2],\n",
        "                          [3],\n",
        "                          [4]))\n",
        "print(vector_row.shape)\n",
        "print(vector_column.shape)"
      ],
      "execution_count": 1,
      "outputs": [
        {
          "output_type": "stream",
          "name": "stdout",
          "text": [
            "(1, 5)\n",
            "(4, 1)\n"
          ]
        }
      ]
    },
    {
      "cell_type": "code",
      "metadata": {
        "colab": {
          "base_uri": "https://localhost:8080/"
        },
        "id": "6o2WYjV4NPpa",
        "outputId": "639d7ff9-faa2-4e4c-ddd4-694d7ff5b4e0"
      },
      "source": [
        "print(vector_row)\n",
        "print(vector_column)"
      ],
      "execution_count": 2,
      "outputs": [
        {
          "output_type": "stream",
          "name": "stdout",
          "text": [
            "[[ 1 -5  3  2  4]]\n",
            "[[1]\n",
            " [2]\n",
            " [3]\n",
            " [4]]\n"
          ]
        }
      ]
    },
    {
      "cell_type": "markdown",
      "metadata": {
        "id": "X6ixE1sYNdbd"
      },
      "source": [
        "# **Floating Point Numbers**"
      ]
    },
    {
      "cell_type": "code",
      "metadata": {
        "colab": {
          "base_uri": "https://localhost:8080/"
        },
        "id": "MfAfsgVhNW7D",
        "outputId": "5867f252-b32e-479b-8918-f706d15a0d9f"
      },
      "source": [
        "import sys\n",
        "sys.float_info"
      ],
      "execution_count": 3,
      "outputs": [
        {
          "output_type": "execute_result",
          "data": {
            "text/plain": [
              "sys.float_info(max=1.7976931348623157e+308, max_exp=1024, max_10_exp=308, min=2.2250738585072014e-308, min_exp=-1021, min_10_exp=-307, dig=15, mant_dig=53, epsilon=2.220446049250313e-16, radix=2, rounds=1)"
            ]
          },
          "metadata": {},
          "execution_count": 3
        }
      ]
    },
    {
      "cell_type": "code",
      "metadata": {
        "colab": {
          "base_uri": "https://localhost:8080/"
        },
        "id": "LxMu3d0BNjX0",
        "outputId": "3b6de6c2-a664-4b44-acc3-7e0f3b0ab96f"
      },
      "source": [
        "import numpy as np\n",
        "\n",
        "# Spacing tells us how far \"next largest/smallest\" number is\n",
        "np.spacing(100_000_000)"
      ],
      "execution_count": 4,
      "outputs": [
        {
          "output_type": "execute_result",
          "data": {
            "text/plain": [
              "1.4901161193847656e-08"
            ]
          },
          "metadata": {},
          "execution_count": 4
        }
      ]
    },
    {
      "cell_type": "code",
      "metadata": {
        "colab": {
          "base_uri": "https://localhost:8080/"
        },
        "id": "Rgfq408BNxhw",
        "outputId": "3d613001-42d2-4ef1-dd38-50c575d33290"
      },
      "source": [
        "np.spacing(100.2)"
      ],
      "execution_count": 5,
      "outputs": [
        {
          "output_type": "execute_result",
          "data": {
            "text/plain": [
              "1.4210854715202004e-14"
            ]
          },
          "metadata": {},
          "execution_count": 5
        }
      ]
    },
    {
      "cell_type": "code",
      "metadata": {
        "colab": {
          "base_uri": "https://localhost:8080/"
        },
        "id": "Ov4MRJmWN6mX",
        "outputId": "fb8545f6-c76c-4af8-d387-7fd22b0f40e6"
      },
      "source": [
        "print(np.spacing(1e4))\n",
        "print(np.spacing(1e-4))"
      ],
      "execution_count": 6,
      "outputs": [
        {
          "output_type": "stream",
          "name": "stdout",
          "text": [
            "1.8189894035458565e-12\n",
            "1.3552527156068805e-20\n"
          ]
        }
      ]
    },
    {
      "cell_type": "code",
      "metadata": {
        "colab": {
          "base_uri": "https://localhost:8080/"
        },
        "id": "hyOawG7bOAOw",
        "outputId": "29f27325-3e8d-4f25-fb0b-fc520abc6fde"
      },
      "source": [
        "num = 1e9\n",
        "# num = 100.0\n",
        "spacing = np.spacing(num)\n",
        "print(num)\n",
        "print(spacing)\n",
        "\n",
        "num_next = num + spacing\n",
        "print(num_next)\n",
        "print(\"Next is same:    \", num == num_next)\n",
        "\n",
        "num_closer = num + (spacing/2)\n",
        "print(num_closer)\n",
        "print(\"closer is same:   \", num == num_closer)"
      ],
      "execution_count": 7,
      "outputs": [
        {
          "output_type": "stream",
          "name": "stdout",
          "text": [
            "1000000000.0\n",
            "1.1920928955078125e-07\n",
            "1000000000.0000001\n",
            "Next is same:     False\n",
            "1000000000.0\n",
            "closer is same:    True\n"
          ]
        }
      ]
    },
    {
      "cell_type": "code",
      "metadata": {
        "colab": {
          "base_uri": "https://localhost:8080/"
        },
        "id": "x29krNKuOhbq",
        "outputId": "04fca314-b14c-48c7-cb3d-d80d06a33dd0"
      },
      "source": [
        "sys.float_info.max "
      ],
      "execution_count": 8,
      "outputs": [
        {
          "output_type": "execute_result",
          "data": {
            "text/plain": [
              "1.7976931348623157e+308"
            ]
          },
          "metadata": {},
          "execution_count": 8
        }
      ]
    },
    {
      "cell_type": "code",
      "metadata": {
        "colab": {
          "base_uri": "https://localhost:8080/"
        },
        "id": "Svnoxp7KOxBZ",
        "outputId": "793e73ce-00cc-437f-8790-1ab54eaa1793"
      },
      "source": [
        "sys.float_info.min"
      ],
      "execution_count": 9,
      "outputs": [
        {
          "output_type": "execute_result",
          "data": {
            "text/plain": [
              "2.2250738585072014e-308"
            ]
          },
          "metadata": {},
          "execution_count": 9
        }
      ]
    },
    {
      "cell_type": "code",
      "metadata": {
        "id": "1BVgweHUOzuW"
      },
      "source": [
        "# Reading assignment: Chop-off and Round-off"
      ],
      "execution_count": 10,
      "outputs": []
    },
    {
      "cell_type": "code",
      "metadata": {
        "id": "UhY5gE8VO4uH"
      },
      "source": [
        ""
      ],
      "execution_count": null,
      "outputs": []
    }
  ]
}